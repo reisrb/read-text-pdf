{
 "cells": [
  {
   "cell_type": "code",
   "execution_count": null,
   "source": [
    "import pdftotree\n",
    "import xml.etree.ElementTree as ET\n",
    "\n",
    "xml = pdftotree.parse('./pdfs/Barbosa ENEL_SP loja 19 abr21.pdf')\n",
    "\n",
    "root = ET.fromstring(xml)"
   ],
   "outputs": [],
   "metadata": {}
  },
  {
   "cell_type": "code",
   "execution_count": null,
   "source": [
    "root.tag\n",
    "\n",
    "# for i, child in enumerate(root[1][0][18][0]):\n",
    "#     print(child.attrib, i)\n",
    "text = []\n",
    "table = [\n",
    "    [\"\", \"\", \"\"]\n",
    "]\n",
    "def mk_dict(child: ...):\n",
    "    dito = {}\n",
    "    for i, j in enumerate(child):\n",
    "        if j.tag == \"tr\":\n",
    "            table.append([])\n",
    "        elif j.tag == \"td\":\n",
    "            table[-1].append(\"\")\n",
    "\n",
    "        if j.attrib.get(\"class\") == \"ocrx_line\":\n",
    "            text.append(\"\\n\")\n",
    "        elif j.attrib.get(\"class\") == \"ocrx_word\":\n",
    "            text.append(j.text + \" \")\n",
    "            if len(table) and len(table[-1]):\n",
    "                table[-1][-1] += j.text + \" \"\n",
    "\n",
    "        dito[f\"{j.tag}{i}\" if dito.get(j.tag) else j.tag] = j.text if j.attrib.get(\"class\") == \"ocrx_word\" else mk_dict(j)\n",
    "    return dito\n",
    "\n",
    "dici = mk_dict(root)\n",
    "# pprint(dici)\n",
    "# print(\"\".join(text))\n",
    "pd.DataFrame(table)"
   ],
   "outputs": [],
   "metadata": {}
  }
 ],
 "metadata": {
  "orig_nbformat": 4,
  "language_info": {
   "name": "python"
  }
 },
 "nbformat": 4,
 "nbformat_minor": 2
}