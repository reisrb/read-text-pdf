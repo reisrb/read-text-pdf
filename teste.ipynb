{
 "cells": [
  {
   "cell_type": "code",
   "execution_count": 1,
   "source": [
    "from os import listdir\n",
    "from pprint import pprint\n",
    "\n",
    "import pdfplumber\n",
    "import pandas as pd\n",
    "\n",
    "from model.columns_pdf import ColumnsPdf\n",
    "from model.pdf import Pdf"
   ],
   "outputs": [],
   "metadata": {}
  },
  {
   "cell_type": "code",
   "execution_count": 2,
   "source": [
    "def read_pdf(path: str):\n",
    "    with pdfplumber.open(path) as pdf:\n",
    "        texts = []\n",
    "        table = []\n",
    "        for page in pdf.pages:\n",
    "            extracted = page.extract_text()\n",
    "            if extracted is None:\n",
    "                continue\n",
    "            texts += filter(lambda i: i, extracted.split(\"\\n\"))\n",
    "            table += page.extract_table(table_settings={\n",
    "                \"vertical_strategy\": \"lines\",\n",
    "                \"horizontal_strategy\": \"text\",\n",
    "                \"snap_tolerance\": 2,\n",
    "            }) or []\n",
    "    return texts, table\n",
    "\n",
    "# DEBUG\n",
    "# texts, table = read_pdf(\"pdfs/Barbosa ENEL_SP loja 28 mai21.pdf\") # Azul\n",
    "texts, table = read_pdf(\"pdfs/Barbosa ENEL_SP loja 37 abr21.pdf\") # Verde\n",
    "pd.DataFrame(\n",
    "    data=table\n",
    ")\n",
    "list(enumerate(texts))\n",
    "texts[-4].split()[:3]\n",
    "texts[-4].split()[3:5]\n",
    "texts[-4].split()[5:]"
   ],
   "outputs": [
    {
     "output_type": "execute_result",
     "data": {
      "text/plain": [
       "['25', 'MAI', '2021']"
      ]
     },
     "metadata": {},
     "execution_count": 2
    }
   ],
   "metadata": {}
  },
  {
   "cell_type": "code",
   "execution_count": 3,
   "source": [
    "def convert_table(texts: list, table: list):\n",
    "    list_lines = []\n",
    "    list_exists = []\n",
    "    for line in table:\n",
    "        for j, text in enumerate(texts):\n",
    "            if line[0] in text:\n",
    "                if j in list_exists:\n",
    "                    continue\n",
    "                else:\n",
    "                    list_exists.append(j)\n",
    "                \n",
    "                columns_pdf = ColumnsPdf()\n",
    "                columns_pdf.cci = text.split()[0] if text.split()[0].isdigit() else \"\"\n",
    "                columns_pdf.descricao = line[0]\n",
    "                columns_pdf.leitura_alterior = line[1]\n",
    "                columns_pdf.leitura_atual = line[2]\n",
    "                columns_pdf.registrado = line[3]\n",
    "                columns_pdf.faturado = line[4]\n",
    "                columns_pdf.tarifa_com_icms = line[5]\n",
    "                columns_pdf.base_icms = line[6]\n",
    "                columns_pdf.aliq_icms = line[7]\n",
    "                columns_pdf.icms = line[8]\n",
    "                columns_pdf.valor = line[9]\n",
    "                columns_pdf.tarifa_sem_impostos = text.split()[-1] if line[-1] and text.split()[-1] != line[-1] else \"\"\n",
    "                list_lines.append(columns_pdf)\n",
    "                break\n",
    "    columns_pdf = ColumnsPdf()\n",
    "    columns_pdf.cci = texts[j+1].split()[0]\n",
    "    columns_pdf.descricao = \" \".join(texts[j+1].split()[1:-1])\n",
    "    columns_pdf.valor = texts[j+1].split()[-1]\n",
    "    list_lines.append(columns_pdf)\n",
    "    return list_lines\n",
    "\n",
    "# DEBUG\n",
    "# convert_table(texts, table)"
   ],
   "outputs": [],
   "metadata": {}
  },
  {
   "cell_type": "code",
   "execution_count": 4,
   "source": [
    "def convert(texts: list, table: list):\n",
    "    pdf = Pdf()\n",
    "\n",
    "    numbers = texts[2].split(' ')\n",
    "    pdf.n_instalacao, pdf.n_cliente, pdf.n_medidor = numbers[0], numbers[1], numbers[2]\n",
    "    pdf.cnpj = texts[3].split('CPF/CNPJ:')[1].split(' ')[1]\n",
    "    pdf.endereco = texts[6]\n",
    "    pdf.subgrupo = texts[9].split()[1]\n",
    "    pdf.aliquota = texts[17].split()[6]\n",
    "    pdf.data_emissao= \" \".join(texts[-4].split()[:3])\n",
    "    pdf.referente= \" \".join(texts[-4].split()[3:5])\n",
    "    pdf.vencimento= \" \".join(texts[-4].split()[5:])\n",
    "    if \"Azul\" in texts[12]:\n",
    "        pdf.modalidade = \"Azul\"\n",
    "        pdf.demanda_hora_ponta = texts[12].split()[3]\n",
    "        pdf.demanda_hora_fora_ponta = texts[12].split()[4]\n",
    "    elif \"Verde\" in texts[12]:\n",
    "        pdf.modalidade = \"Verde\"\n",
    "        pdf.demanda_unica = texts[12].split()[3]\n",
    "    \n",
    "    for text in texts:\n",
    "        if 'CEP' in text:\n",
    "            pdf.cep = text.split(' ')[1]\n",
    "            break\n",
    "\n",
    "    pdf.tabela = convert_table(texts, table)\n",
    "    return pdf\n",
    "\n",
    "# DEBUG\n",
    "# TODO\n",
    "# table.insert(33, ['PIS/PASEP (0,59%)', '', '', '', '', '', '0,00', '0%', '0,00', '77,21-']) # teste\n",
    "# texts[0].insert(54, '0699 PIS/PASEP (0,59%) 0,00 0% 0,00 77,27-') # teste"
   ],
   "outputs": [],
   "metadata": {}
  },
  {
   "cell_type": "code",
   "execution_count": 5,
   "source": [
    "def full(path: str):\n",
    "    texts, table = read_pdf(path)\n",
    "    pdf = convert(texts, table)\n",
    "    pdf.filename = path.split(\"/\")[-1]\n",
    "    return pdf\n",
    "\n",
    "# DEBUG\n",
    "example = full(\"pdfs/Barbosa ENEL_SP loja 28 mai21.pdf\")\n",
    "# example = full(\"pdfs/Barbosa ENEL_SP loja 37 abr21.pdf\")\n",
    "# example.to_dataframe()\n",
    "example.tabela_to_dataframe()"
   ],
   "outputs": [
    {
     "output_type": "execute_result",
     "data": {
      "text/plain": [
       "                            filename data_emissao referente   vencimento  \\\n",
       "0  Barbosa ENEL_SP loja 28 mai21.pdf  15 JUN 2021  MAI 2021  24 JUN 2021   \n",
       "\n",
       "  n_instalacao n_cliente n_medidor                cnpj               endereco  \\\n",
       "0   MTE0012933  21702299  15793942  60.437.647/0028-27  R MONTEIRO LOBATO 10    \n",
       "\n",
       "         cep subgrupo modalidade demanda_unica demanda_hora_ponta  \\\n",
       "0  06864-170       A4       Azul                             85,0   \n",
       "\n",
       "  demanda_hora_fora_ponta aliquota  tabela  \n",
       "0                    90,0      18%  0...40  "
      ],
      "text/html": [
       "<div>\n",
       "<style scoped>\n",
       "    .dataframe tbody tr th:only-of-type {\n",
       "        vertical-align: middle;\n",
       "    }\n",
       "\n",
       "    .dataframe tbody tr th {\n",
       "        vertical-align: top;\n",
       "    }\n",
       "\n",
       "    .dataframe thead th {\n",
       "        text-align: right;\n",
       "    }\n",
       "</style>\n",
       "<table border=\"1\" class=\"dataframe\">\n",
       "  <thead>\n",
       "    <tr style=\"text-align: right;\">\n",
       "      <th></th>\n",
       "      <th>filename</th>\n",
       "      <th>data_emissao</th>\n",
       "      <th>referente</th>\n",
       "      <th>vencimento</th>\n",
       "      <th>n_instalacao</th>\n",
       "      <th>n_cliente</th>\n",
       "      <th>n_medidor</th>\n",
       "      <th>cnpj</th>\n",
       "      <th>endereco</th>\n",
       "      <th>cep</th>\n",
       "      <th>subgrupo</th>\n",
       "      <th>modalidade</th>\n",
       "      <th>demanda_unica</th>\n",
       "      <th>demanda_hora_ponta</th>\n",
       "      <th>demanda_hora_fora_ponta</th>\n",
       "      <th>aliquota</th>\n",
       "      <th>tabela</th>\n",
       "    </tr>\n",
       "  </thead>\n",
       "  <tbody>\n",
       "    <tr>\n",
       "      <th>0</th>\n",
       "      <td>Barbosa ENEL_SP loja 28 mai21.pdf</td>\n",
       "      <td>15 JUN 2021</td>\n",
       "      <td>MAI 2021</td>\n",
       "      <td>24 JUN 2021</td>\n",
       "      <td>MTE0012933</td>\n",
       "      <td>21702299</td>\n",
       "      <td>15793942</td>\n",
       "      <td>60.437.647/0028-27</td>\n",
       "      <td>R MONTEIRO LOBATO 10</td>\n",
       "      <td>06864-170</td>\n",
       "      <td>A4</td>\n",
       "      <td>Azul</td>\n",
       "      <td></td>\n",
       "      <td>85,0</td>\n",
       "      <td>90,0</td>\n",
       "      <td>18%</td>\n",
       "      <td>0...40</td>\n",
       "    </tr>\n",
       "  </tbody>\n",
       "</table>\n",
       "</div>"
      ]
     },
     "metadata": {},
     "execution_count": 5
    }
   ],
   "metadata": {
    "tags": []
   }
  },
  {
   "cell_type": "markdown",
   "source": [
    "# TODO\n",
    "- [x] Adicionar `Data Emissao`\n",
    "- [x] Adicionar `Referente a`\n",
    "- [x] Adicionar `Vencimento`\n",
    "- [x] Adicionar `Subgrupo`\n",
    "- [x] Adicionar `Modalidade`\n",
    "- [x] Adicionar `Demanda Contratada` / `Hora Ponta` & `Hora Ponta Fora`\n",
    "- [x] Adicionar `Aliquota (Ja está dentro da tabela)`"
   ],
   "metadata": {}
  }
 ],
 "metadata": {
  "orig_nbformat": 4,
  "language_info": {
   "name": "python",
   "version": "3.9.6",
   "mimetype": "text/x-python",
   "codemirror_mode": {
    "name": "ipython",
    "version": 3
   },
   "pygments_lexer": "ipython3",
   "nbconvert_exporter": "python",
   "file_extension": ".py"
  },
  "kernelspec": {
   "name": "python3",
   "display_name": "Python 3.9.6 64-bit ('.venv': venv)"
  },
  "interpreter": {
   "hash": "d6c9532fbfa0f93218c407179d0c17c9bfbcb19c68235869049e591df33d86b7"
  }
 },
 "nbformat": 4,
 "nbformat_minor": 2
}