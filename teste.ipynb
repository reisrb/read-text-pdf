{
 "cells": [
  {
   "cell_type": "code",
   "execution_count": null,
   "source": [
    "from os import listdir\n",
    "from pprint import pprint\n",
    "\n",
    "import pdfplumber\n",
    "import pandas as pd\n",
    "\n",
    "from model.columns_pdf import ColumnsPdf\n",
    "from model.pdf import Pdf"
   ],
   "outputs": [],
   "metadata": {}
  },
  {
   "cell_type": "code",
   "execution_count": null,
   "metadata": {},
   "outputs": [],
   "source": [
    "def read_pdf(path: str):\n",
    "    with pdfplumber.open(path) as pdf:\n",
    "        texts = []\n",
    "        table = []\n",
    "        for page in pdf.pages:\n",
    "            extracted = page.extract_text()\n",
    "            if extracted is None:\n",
    "                continue\n",
    "            texts += filter(lambda i: i, extracted.split(\"\\n\"))\n",
    "            table += page.extract_table(table_settings={\n",
    "                \"vertical_strategy\": \"lines\",\n",
    "                \"horizontal_strategy\": \"text\",\n",
    "                \"snap_tolerance\": 2,\n",
    "            }) or []\n",
    "    return texts, table\n",
    "\n",
    "# DEBUG\n",
    "texts, table = read_pdf(\"CDMATR~1.PDF\")\n",
    "pd.DataFrame(\n",
    "    data=table\n",
    ")"
   ]
  },
  {
   "cell_type": "code",
   "execution_count": null,
   "metadata": {},
   "outputs": [],
   "source": [
    "def convert_table(texts: list, table: list):\n",
    "    list_lines = []\n",
    "    list_exists = []\n",
    "    for line in table:\n",
    "        for j, text in enumerate(texts):\n",
    "            if line[0] in text:\n",
    "                if j in list_exists:\n",
    "                    continue\n",
    "                else:\n",
    "                    list_exists.append(j)\n",
    "                \n",
    "                columns_pdf = ColumnsPdf()\n",
    "                columns_pdf.cci = text.split()[0] if text.split()[0].isdigit() else \"\"\n",
    "                columns_pdf.descricao = line[0]\n",
    "                columns_pdf.leitura_alterior = line[1]\n",
    "                columns_pdf.leitura_atual = line[2]\n",
    "                columns_pdf.registrado = line[3]\n",
    "                columns_pdf.faturado = line[4]\n",
    "                columns_pdf.tarifa_com_icms = line[5]\n",
    "                columns_pdf.base_icms = line[6]\n",
    "                columns_pdf.aliq_icms = line[7]\n",
    "                columns_pdf.icms = line[8]\n",
    "                columns_pdf.valor = line[9]\n",
    "                columns_pdf.tarifa_sem_impostos = text.split()[-1] if line[-1] and text.split()[-1] != line[-1] else \"\"\n",
    "                list_lines.append(columns_pdf)\n",
    "                break\n",
    "    return list_lines\n",
    "\n",
    "# DEBUG\n",
    "# TODO"
   ]
  },
  {
   "cell_type": "code",
   "execution_count": null,
   "source": [
    "def convert(texts: list, table: list):\n",
    "    pdf = Pdf()\n",
    "\n",
    "    numbers = texts[2].split(' ')\n",
    "    pdf.n_instalacao, pdf.n_cliente, pdf.n_medidor = numbers[0], numbers[1], numbers[2]\n",
    "    pdf.cnpj = texts[3].split('CPF/CNPJ:')[1].split(' ')[1]\n",
    "    pdf.endereco = texts[6]\n",
    "    for text in texts:\n",
    "        if 'CEP' in text:\n",
    "            pdf.cep = text.split(' ')[1]\n",
    "            break\n",
    "\n",
    "    pdf.tabela = convert_table(texts, table)\n",
    "    return pdf\n",
    "\n",
    "# DEBUG\n",
    "# TODO\n",
    "# table.insert(33, ['PIS/PASEP (0,59%)', '', '', '', '', '', '0,00', '0%', '0,00', '77,21-']) # teste\n",
    "# texts[0].insert(54, '0699 PIS/PASEP (0,59%) 0,00 0% 0,00 77,27-') # teste"
   ],
   "outputs": [],
   "metadata": {}
  },
  {
   "cell_type": "code",
   "execution_count": null,
   "source": [
    "def full(path: str):\n",
    "    texts, table = read_pdf(path)\n",
    "    pdf = convert(texts, table)\n",
    "    return pdf\n",
    "\n",
    "# DEBUG\n",
    "example = full(\"CDMATR~1.PDF\")\n",
    "# example.to_dataframe()\n",
    "example.tabela_to_dataframe()\n",
    "pd.DataFrame(\n",
    "    [\n",
    "        [\"Pedro\", 2.3],\n",
    "        [\"Cuca\", 0.2]\n",
    "    ], columns=[\"nome\", \"kd\"]\n",
    ")"
   ],
   "outputs": [],
   "metadata": {
    "tags": []
   }
  },
  {
   "source": [
    "# TODO:\n",
    "- Adicionar `Data Emissão`;\n",
    "- Adicionar `Conta Referente a`;\n",
    "- Adicionar `Vencimento`;"
   ],
   "cell_type": "markdown",
   "metadata": {}
  }
 ],
 "metadata": {
  "orig_nbformat": 4,
  "language_info": {
   "name": "python",
   "version": "3.8.2-final",
   "mimetype": "text/x-python",
   "codemirror_mode": {
    "name": "ipython",
    "version": 3
   },
   "pygments_lexer": "ipython3",
   "nbconvert_exporter": "python",
   "file_extension": ".py"
  },
  "kernelspec": {
   "name": "python38264bitvenv65b444567f2b4bf985098d06066c6315",
   "display_name": "Python 3.8.2 64-bit ('.venv')"
  },
  "interpreter": {
   "hash": "ac12668aefbb074e66ff9ddf86eb48a0903efeff763f2fcfb417c3f62b7323c0"
  }
 },
 "nbformat": 4,
 "nbformat_minor": 2
}