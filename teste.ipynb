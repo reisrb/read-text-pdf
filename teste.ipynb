{
 "cells": [
  {
   "cell_type": "code",
   "execution_count": 13,
   "source": [
    "from model.pdf import Pdf\n",
    "import pdfplumber\n",
    "from pprint import pprint"
   ],
   "outputs": [],
   "metadata": {}
  },
  {
   "cell_type": "code",
   "execution_count": 57,
   "source": [
    "with pdfplumber.open('CDMATR~1.PDF') as pdf:\n",
    "    text = pdf.pages[0]\n",
    "\n",
    "    table = text.extract_table(table_settings={\"vertical_strategy\": \"text\", \n",
    "                                         \"horizontal_strategy\": \"text\", \n",
    "                                         \"snap_tolerance\": 1,})\n",
    "    \n",
    "    pprint(table, width=250)\n",
    "    "
   ],
   "outputs": [
    {
     "output_type": "stream",
     "name": "stdout",
     "text": [
      "[['MEDIDOR N° 15159341', '', '', '', '', '', '', '', '', ''],\n",
      " ['CONST. POTENCIA 0,84000', '', '', '', '', '', '', '', '', ''],\n",
      " ['CONST. ATIVO    0,21000', '', '', '', '', '', '', '', '', ''],\n",
      " ['CONST. REATIVO  0,21000', '', '', '', '', '', '', '', '', ''],\n",
      " ['CONSUMO PONTA VM', '8.718.104', '8.872.295', '32.380,1', '', '', '', '', '', ''],\n",
      " ['CONSUMO FORA PONTA CAPACIT. VM', '19.349.389', '19.652.495', '63.652,3', '', '', '', '', '', ''],\n",
      " ['CONSUMO FORA PONTA INDUTIVO VM', '70.852.410', '71.939.251', '228.236,6', '', '', '', '', '', ''],\n",
      " ['DEMANDA PONTA', '822', '760', '638,4', '', '', '', '', '', ''],\n",
      " ['DEMANDA FORA PONTA CAPACITIVA', '553', '526', '441,8', '', '', '', '', '', ''],\n",
      " ['DEMANDA FORA PONTA INDUTIVA', '882', '845', '709,8', '', '', '', '', '', ''],\n",
      " ['ENERGIA REATIVA PONTA', '2.630.692', '2.664.229', '7.042,8', '', '', '', '', '', ''],\n",
      " ['ENERGIA REATIVA F. PONTA IND.', '25.517.765', '25.812.977', '61.994,5', '', '', '', '', '', ''],\n",
      " ['UFER PONTA', '25.423', '25.423', '0,0', '', '', '', '', '', ''],\n",
      " ['UFER FORA PONTA CAPACITIVA', '0', '0', '0,0', '', '', '', '', '', ''],\n",
      " ['UFER FORA PONTA INDUTIVA', '333.325', '333.325', '0,0', '', '', '', '', '', ''],\n",
      " ['DMCR PONTA', '3.023', '2.728', '572,9', '', '', '', '', '', ''],\n",
      " ['DMCR FORA PONTA CAPACITIVA', '1.954', '1.898', '398,6', '', '', '', '', '', ''],\n",
      " ['DMCR FORA PONTA INDUTIVA', '3.347', '3.193', '670,5', '', '', '', '', '', ''],\n",
      " ['ENERGIA REATIVA F. PONTA CAP.', '33', '36', '0,6', '', '', '', '', '', ''],\n",
      " ['FATOR DE CARGA PONTA', '', '', '0,780', '', '', '', '', '', ''],\n",
      " ['FATOR DE CARGA FORA PONTA', '', '', '0,618', '', '', '', '', '', ''],\n",
      " ['', '', '', '', '', '', '', '', '', ''],\n",
      " ['DEMANDA PONTA C/ DESCONTO', '', '', '', '638,4', '14,14247', '9.028,55', '18%', '1.625,14', '9.028,55'],\n",
      " ['', '', '', '', '', '', '', '', '', ''],\n",
      " ['DEMANDA FORA PONTA C/ DESCONTO', '', '', '', '709,8', '9,46502', '6.718,27', '18%', '1.209,28', '6.718,27'],\n",
      " ['', '', '', '', '', '', '', '', '', ''],\n",
      " ['CONSUMO ATIVO PONTA TUSD', '', '', '', '32.380,1', '0,09752', '3.157,85', '18%', '568,40', '3.157,85'],\n",
      " ['', '', '', '', '', '', '', '', '', ''],\n",
      " ['CONSUMO ATIVO F. PONTA TUSD', '', '', '', '291.888,9', '0,09752', '28.466,28', '18%', '5.123,92', '28.466,28'],\n",
      " ['', '', '', '', '', '', '', '', '', ''],\n",
      " ['REGIME ESPECIAL-ICMS ACL', '', '', '', '324.269,0', '0,27598', '89.490,32', '18%', '16.108,25', '89.490,32'],\n",
      " ['', '', '', '', '', '', '', '', '', ''],\n",
      " ['REGIME ESPECIAL-PIS COFINS ACL', '', '', '', '324.269,0', '', '', '', '', '73.382,07-'],\n",
      " ['', '', '', '', '', '', '', '', '', ''],\n",
      " ['DEMANDA LEI ESTADUAL 16.886/18', '', '', '', '240,2', '7,76130', '0,00', '0%', '0,00', '1.864,26'],\n",
      " ['', '', '', '', '', '', '', '', '', ''],\n",
      " ['DEMANDA LEI ESTADUAL 16.886/18', '', '', '', '61,6', '11,59682', '0,00', '0%', '0,00', '714,36'],\n",
      " ['', '', '', '', '', '', '', '', '', ''],\n",
      " ['BENEFÍCIO TARIFÁRIO BRUTO', '', '', '', '0,0', '0,00000', '18.787,81', '18%', '3.381,81', '18.787,81'],\n",
      " ['', '', '', '', '', '', '', '', '', ''],\n",
      " ['BENEFÍCIO TARIFÁRIO LÍQUIDO', '', '', '', '0,0', '0,00000', '0,00', '0%', '0,00', '15.406,00-'],\n",
      " ['', '', '', '', '', '', '', '', '', ''],\n",
      " ['PIS/PASEP (0,59%)', '', '', '', '', '', '403,60', '18%', '72,65', '403,60'],\n",
      " ['', '', '', '', '', '', '', '', '', ''],\n",
      " ['PIS/PASEP (0,59%)', '', '', '', '', '', '0,00', '0%', '0,00', '78,27-'],\n",
      " ['', '', '', '', '', '', '', '', '', ''],\n",
      " ['COFINS (2,71%)', '', '', '', '', '', '1.854,02', '18%', '333,73', '1.854,02'],\n",
      " ['', '', '', '', '', '', '', '', '', ''],\n",
      " ['COFINS (2,71%)', '', '', '', '', '', '0,00', '0%', '0,00', '359,50-'],\n",
      " ['', '', '', '', '', '', '', '', '', ''],\n",
      " ['COSIP - SÃO PAULO - MUNICIPAL', '', '', '', '', '', '', '', '', '30,47'],\n",
      " ['', '', '', '', '', '', '', '', '', ''],\n",
      " ['JUROS DE MORA', '', '', '', '', '', '', '', '', '24,45-'],\n",
      " ['', '', '', '', '', '', '', '', '', '']]\n"
     ]
    }
   ],
   "metadata": {}
  },
  {
   "cell_type": "code",
   "execution_count": 6,
   "source": [
    "with pdfplumber.open('CDMATR~1.PDF') as pdf:\n",
    "\ttexts = list(filter(lambda i: i, (map(lambda it: j.split('\\n') if (j := it.extract_text()) else None, pdf.pages))))\n",
    "\n",
    "pdf = Pdf()"
   ],
   "outputs": [],
   "metadata": {}
  },
  {
   "cell_type": "code",
   "execution_count": 7,
   "source": [
    "numbers = texts[0][2].split(' ')\n",
    "pdf.n_instalacao, pdf.n_cliente, pdf.n_medidor = numbers[0], numbers[1], numbers[2]\n",
    "pdf.cnpj = texts[0][3].split('CPF/CNPJ:')[1].split(' ')[1]\n",
    "pdf.endereco = texts[0][6]\n",
    "\n",
    "grava = False\n",
    "\n",
    "for text in texts[0]:\n",
    "\tif 'CEP' in text:\n",
    "\t\tgrava = True\n",
    "\n",
    "\tif grava:\n",
    "\t\tpdf.cep = text.split(' ')[1]\n",
    "\n",
    "\tif ' - ' in text:\n",
    "\t\tgrava = False\n",
    "\t\t"
   ],
   "outputs": [],
   "metadata": {}
  },
  {
   "cell_type": "code",
   "execution_count": 11,
   "source": [
    "linhasTabela = []\n",
    "for text in texts[0]:\n",
    "\tif  'CCI' in text:\n",
    "\t\tgrava = True\n",
    "\t\t\n",
    "\tif 'Valor dos Tributos:' in text:\n",
    "\t\tgrava = False\n",
    "\n",
    "\tif grava:\n",
    "\t\tlinhasTabela.append(text)\n",
    "\t\t\n",
    "\n",
    "pdf.tabela = linhasTabela\n",
    "\n",
    "pprint(pdf.to_string(), width=150)\n"
   ],
   "outputs": [
    {
     "output_type": "stream",
     "name": "stdout",
     "text": [
      "{'cep': '05280-000',\n",
      " 'cnpj': '07.158.073/0001-55',\n",
      " 'endereco': 'EST DE LIGACAO 248 ',\n",
      " 'n_cliente': '10011949',\n",
      " 'n_instalacao': '200116756',\n",
      " 'n_medidor': '15159341',\n",
      " 'tabela': ['CCI DESCRIÇÃO ALNETITEURRIOAR  LAETITUUARLA  kRWE/GkIWSThR/kAvDaOrh   FAkTWURhA/kDvOar khW/ TARIFA C/ ICMS  BASE ICMS IACLMÍQS  ICMS '\n",
      "            'VALOR ITMAPROIFSAT OS/S ',\n",
      "            'MEDIDOR N° 15159341',\n",
      "            'CONST. POTENCIA 0,84000',\n",
      "            'CONST. ATIVO    0,21000',\n",
      "            'CONST. REATIVO  0,21000',\n",
      "            'CONSUMO PONTA VM 8.718.104 8.872.295 32.380,1',\n",
      "            'CONSUMO FORA PONTA CAPACIT. VM 19.349.389 19.652.495 63.652,3',\n",
      "            'CONSUMO FORA PONTA INDUTIVO VM 70.852.410 71.939.251 228.236,6',\n",
      "            'DEMANDA PONTA 822 760 638,4',\n",
      "            'DEMANDA FORA PONTA CAPACITIVA 553 526 441,8',\n",
      "            'DEMANDA FORA PONTA INDUTIVA 882 845 709,8',\n",
      "            'ENERGIA REATIVA PONTA 2.630.692 2.664.229 7.042,8',\n",
      "            'ENERGIA REATIVA F. PONTA IND. 25.517.765 25.812.977 61.994,5',\n",
      "            'UFER PONTA 25.423 25.423 0,0',\n",
      "            'UFER FORA PONTA CAPACITIVA 0 0 0,0',\n",
      "            'UFER FORA PONTA INDUTIVA 333.325 333.325 0,0',\n",
      "            'DMCR PONTA 3.023 2.728 572,9',\n",
      "            'DMCR FORA PONTA CAPACITIVA 1.954 1.898 398,6',\n",
      "            'DMCR FORA PONTA INDUTIVA 3.347 3.193 670,5',\n",
      "            'ENERGIA REATIVA F. PONTA CAP. 33 36 0,6',\n",
      "            'FATOR DE CARGA PONTA 0,780',\n",
      "            'FATOR DE CARGA FORA PONTA 0,618',\n",
      "            '0602 DEMANDA PONTA C/ DESCONTO 638,4 14,14247 9.028,55 18% 1.625,14 9.028,55 11,59682',\n",
      "            '0602 DEMANDA FORA PONTA C/ DESCONTO 709,8 9,46502 6.718,27 18% 1.209,28 6.718,27 7,76130',\n",
      "            '0606 CONSUMO ATIVO PONTA TUSD 32.380,1 0,09752 3.157,85 18% 568,40 3.157,85 0,07997',\n",
      "            '0606 CONSUMO ATIVO F. PONTA TUSD 291.888,9 0,09752 28.466,28 18% 5.123,92 28.466,28 0,07997',\n",
      "            '0601 REGIME ESPECIAL-ICMS ACL 324.269,0 0,27598 89.490,32 18% 16.108,25 89.490,32 0,22630',\n",
      "            '0907 REGIME ESPECIAL-PIS COFINS ACL 324.269,0 73.382,07- 0,22630',\n",
      "            '0602 DEMANDA LEI ESTADUAL 16.886/18 240,2 7,76130 0,00 0% 0,00 1.864,26 7,76130',\n",
      "            '0602 DEMANDA LEI ESTADUAL 16.886/18 61,6 11,59682 0,00 0% 0,00 714,36 11,59682',\n",
      "            '0610 BENEFÍCIO TARIFÁRIO BRUTO 0,0 0,00000 18.787,81 18% 3.381,81 18.787,81 0,00000',\n",
      "            '0906 BENEFÍCIO TARIFÁRIO LÍQUIDO 0,0 0,00000 0,00 0% 0,00 15.406,00- 0,00000',\n",
      "            '0699 PIS/PASEP (0,59%) 403,60 18% 72,65 403,60',\n",
      "            '0699 PIS/PASEP (0,59%) 0,00 0% 0,00 78,27-',\n",
      "            '0699 COFINS (2,71%) 1.854,02 18% 333,73 1.854,02',\n",
      "            '0699 COFINS (2,71%) 0,00 0% 0,00 359,50-',\n",
      "            '0807 COSIP - SÃO PAULO - MUNICIPAL 30,47',\n",
      "            '0999 JUROS DE MORA 24,45-',\n",
      "            '0999 DEVOLUÇÃO PGTO DUPLICIDADE 18.802,40-']}\n"
     ]
    }
   ],
   "metadata": {}
  }
 ],
 "metadata": {
  "orig_nbformat": 4,
  "language_info": {
   "name": "python",
   "version": "3.9.6",
   "mimetype": "text/x-python",
   "codemirror_mode": {
    "name": "ipython",
    "version": 3
   },
   "pygments_lexer": "ipython3",
   "nbconvert_exporter": "python",
   "file_extension": ".py"
  },
  "kernelspec": {
   "name": "python3",
   "display_name": "Python 3.9.6 64-bit ('.venv': venv)"
  },
  "interpreter": {
   "hash": "ac12668aefbb074e66ff9ddf86eb48a0903efeff763f2fcfb417c3f62b7323c0"
  }
 },
 "nbformat": 4,
 "nbformat_minor": 2
}