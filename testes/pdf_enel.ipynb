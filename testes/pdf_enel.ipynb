{
 "cells": [
  {
   "cell_type": "code",
   "execution_count": 5,
   "source": [
    "import pdfplumber\n",
    "from pprint import pprint"
   ],
   "outputs": [],
   "metadata": {}
  },
  {
   "cell_type": "code",
   "execution_count": 11,
   "source": [
    "with pdfplumber.open('../CDMATR~1.PDF') as pdf:\n",
    "\ttexts = list(filter(lambda i: i, (map(lambda it: j.split('\\n') if (j := it.extract_text()) else None, pdf.pages))))\n",
    "\tpprint([i for i in texts[0] if \"DEMANDA FORA PONTA C/ DESCONTO\" in i], width=120)\n"
   ],
   "outputs": [
    {
     "output_type": "stream",
     "name": "stdout",
     "text": [
      "['0602 DEMANDA FORA PONTA C/ DESCONTO 709,8 9,46502 6.718,27 18% 1.209,28 6.718,27 7,76130']\n"
     ]
    }
   ],
   "metadata": {}
  }
 ],
 "metadata": {
  "orig_nbformat": 4,
  "language_info": {
   "name": "python",
   "version": "3.9.6",
   "mimetype": "text/x-python",
   "codemirror_mode": {
    "name": "ipython",
    "version": 3
   },
   "pygments_lexer": "ipython3",
   "nbconvert_exporter": "python",
   "file_extension": ".py"
  },
  "kernelspec": {
   "name": "python3",
   "display_name": "Python 3.9.6 64-bit ('.venv': venv)"
  },
  "interpreter": {
   "hash": "ac12668aefbb074e66ff9ddf86eb48a0903efeff763f2fcfb417c3f62b7323c0"
  }
 },
 "nbformat": 4,
 "nbformat_minor": 2
}