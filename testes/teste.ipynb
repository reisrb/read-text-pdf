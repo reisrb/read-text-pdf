{
 "cells": [
  {
   "cell_type": "code",
   "execution_count": 2,
   "source": [
    "import pdfplumber\n",
    "\n",
    "import pprint"
   ],
   "outputs": [],
   "metadata": {}
  },
  {
   "cell_type": "code",
   "execution_count": 6,
   "source": [
    "with pdfplumber.open('Tutorial_Zoom.pdf') as pdf:\n",
    "\ttexts = list(filter(lambda i: i, (map(lambda it: j.split('\\n') if (j := it.extract_text()) else None, pdf.pages))))\n",
    "\tprint(texts[1])\n",
    "\n",
    "\t# texts = list(filter(lambda i: i, map(lambda it: j.replace(\"•\\n\", \"\").split('\\n') if (j := it.extract_text()) else None, pdf.pages)))\n",
    "\t# texts_filtered = list(filter(lambda i: '•' not in i, texts))\n",
    "\t# texts_filtered = list(filter(lambda t: '-' not in t, list(filter(lambda i: '•' not in i, texts))))\n",
    "\t\n",
    "\t# for word in json_text:\n",
    "\t#   if 'reuniões/vídeo' in word['text']:\n",
    "\t#     contain_vector = False\n",
    "\t#   if 'Zoom' in word['text']:\n",
    "\t#     contain_vector = True\n",
    "\t#     complete_text += ' ' + word['text']\n",
    "\t#   if contain_vector:\n",
    "\t#     complete_text += ' ' + word['te1xt']\n",
    "\t\t"
   ],
   "outputs": [
    {
     "output_type": "stream",
     "name": "stdout",
     "text": [
      "['Zoom -  O que é?', 'Plataforma de reuniões/vídeo ', '•', 'conferências online;', 'Usado para as aulas remotas, ', '•', 'eventos onlines e palestras;', '3']\n"
     ]
    }
   ],
   "metadata": {}
  },
  {
   "cell_type": "code",
   "execution_count": null,
   "source": [],
   "outputs": [],
   "metadata": {}
  }
 ],
 "metadata": {
  "orig_nbformat": 4,
  "language_info": {
   "name": "python",
   "version": "3.9.6",
   "mimetype": "text/x-python",
   "codemirror_mode": {
    "name": "ipython",
    "version": 3
   },
   "pygments_lexer": "ipython3",
   "nbconvert_exporter": "python",
   "file_extension": ".py"
  },
  "kernelspec": {
   "name": "python3",
   "display_name": "Python 3.9.6 64-bit ('.venv': venv)"
  },
  "interpreter": {
   "hash": "ac12668aefbb074e66ff9ddf86eb48a0903efeff763f2fcfb417c3f62b7323c0"
  }
 },
 "nbformat": 4,
 "nbformat_minor": 2
}