{
 "cells": [
  {
   "cell_type": "code",
   "execution_count": 10,
   "source": [
    "from typing import List\n",
    "\n",
    "import pdfplumber\n",
    "import pandas as pd \n",
    "from abc import ABCMeta, abstractmethod\n",
    "import numpy as np\n",
    "\n",
    "from model.pdf import Pdf\n",
    "\n",
    "from dataclasses import dataclass"
   ],
   "outputs": [],
   "metadata": {}
  },
  {
   "cell_type": "code",
   "execution_count": 11,
   "source": [
    "#specified pdf \n",
    "def factory(tables: List[pd.DataFrame]) -> ...:\n",
    "    ...\n",
    "\n",
    "def open_file(file_path: str):\n",
    "    return pdfplumber.open(file_path)\n",
    "\n",
    "def pdf_extracted(filename: str):\n",
    "    pdf = pdfplumber.open(filename)\n",
    "    return extract_all_tables(pdf)\n",
    "    # return factory(tables)\n",
    "\n",
    "def extract_all_tables(pdf) -> List[pd.DataFrame]:\n",
    "    tables = []\n",
    "    tables.append(extract_table_operacao(pdf, 0))\n",
    "    tables.append(extract_table_operacao(pdf, 1))\n",
    "    return tables\n",
    "\n",
    "def extract_table_operacao(pdf, page: int = 0):\n",
    "    return pd.DataFrame(pdf.pages[0].extract_tables({\n",
    "        \"vertical_strategy\": \"explicit\", \"horizontal_strategy\": \"explicit\", \"snap_tolerance\": 3,\n",
    "        \"explicit_vertical_lines\": [45, 60, 150, 175, 220, 255, 270, 305, 350, 390, 410, 440, 490, 520, 550], \n",
    "        \"explicit_horizontal_lines\": [290, 312, *[322+(10*i) for i in range(23)]],\n",
    "    })[0])\n",
    "\n",
    "def frame_table(pdf):\n",
    "    extracted = pdf.pages[0].extract_tables({\n",
    "        \"vertical_strategy\": \"explicit\", \"horizontal_strategy\": \"explicit\", \"snap_tolerance\": 3,\n",
    "        \"explicit_vertical_lines\": \n",
    "        [\n",
    "            45, 60, 150, 175, 220, 255, 270, 305, 350, 390, 410, 440, 490, 520, 550\n",
    "        ], \n",
    "        \"explicit_horizontal_lines\": [290, 312, *[322+(10*i) for i in range(23)]],\n",
    "    })[0]\n",
    "\n",
    "    return pd.DataFrame(extracted)\n",
    "\n",
    "def view_pdf(pdf):\n",
    "    im = pdf.pages[0].to_image(resolution=120)\n",
    "    return im.debug_tablefinder({\n",
    "        \"vertical_strategy\": \"explicit\", \"horizontal_strategy\": \"explicit\", \"snap_tolerance\": 3,\n",
    "        \"explicit_vertical_lines\": [\n",
    "            45, 60, 150, 175, 220, 255, 270, 305, 350, 390, 410, 440, 490, 520, 550], \n",
    "        \"explicit_horizontal_lines\": [290, 312, *[322+(10*i) for i in range(23)]],\n",
    "        })\n"
   ],
   "outputs": [],
   "metadata": {}
  },
  {
   "cell_type": "code",
   "execution_count": 12,
   "source": [
    "# aaaa = pdf_extracted(\"in/MAGSAC EMPRESA JUNHO 2.pdf\")\n",
    "# frame_table(open_file(\"in/MAGSAC EMPRESA JUNHO 2.pdf\"))\n",
    "view_pdf(open_file(\"in/cpfl/MAGSAC EMPRESA JUNHO 2.pdf\"))"
   ],
   "outputs": [
    {
     "output_type": "error",
     "ename": "FileNotFoundError",
     "evalue": "[Errno 2] No such file or directory: 'in/MAGSAC EMPRESA JUNHO 2.pdf'",
     "traceback": [
      "\u001b[0;31m---------------------------------------------------------------------------\u001b[0m",
      "\u001b[0;31mFileNotFoundError\u001b[0m                         Traceback (most recent call last)",
      "\u001b[0;32m/tmp/ipykernel_3586/3960161832.py\u001b[0m in \u001b[0;36m<module>\u001b[0;34m\u001b[0m\n\u001b[1;32m      1\u001b[0m \u001b[0;31m# aaaa = pdf_extracted(\"in/MAGSAC EMPRESA JUNHO 2.pdf\")\u001b[0m\u001b[0;34m\u001b[0m\u001b[0;34m\u001b[0m\u001b[0;34m\u001b[0m\u001b[0m\n\u001b[1;32m      2\u001b[0m \u001b[0;31m# frame_table(open_file(\"in/MAGSAC EMPRESA JUNHO 2.pdf\"))\u001b[0m\u001b[0;34m\u001b[0m\u001b[0;34m\u001b[0m\u001b[0;34m\u001b[0m\u001b[0m\n\u001b[0;32m----> 3\u001b[0;31m \u001b[0mview_pdf\u001b[0m\u001b[0;34m(\u001b[0m\u001b[0mopen_file\u001b[0m\u001b[0;34m(\u001b[0m\u001b[0;34m\"in/MAGSAC EMPRESA JUNHO 2.pdf\"\u001b[0m\u001b[0;34m)\u001b[0m\u001b[0;34m)\u001b[0m\u001b[0;34m\u001b[0m\u001b[0;34m\u001b[0m\u001b[0m\n\u001b[0m",
      "\u001b[0;32m/tmp/ipykernel_3586/3558315545.py\u001b[0m in \u001b[0;36mopen_file\u001b[0;34m(file_path)\u001b[0m\n\u001b[1;32m      4\u001b[0m \u001b[0;34m\u001b[0m\u001b[0m\n\u001b[1;32m      5\u001b[0m \u001b[0;32mdef\u001b[0m \u001b[0mopen_file\u001b[0m\u001b[0;34m(\u001b[0m\u001b[0mfile_path\u001b[0m\u001b[0;34m:\u001b[0m \u001b[0mstr\u001b[0m\u001b[0;34m)\u001b[0m\u001b[0;34m:\u001b[0m\u001b[0;34m\u001b[0m\u001b[0;34m\u001b[0m\u001b[0m\n\u001b[0;32m----> 6\u001b[0;31m     \u001b[0;32mreturn\u001b[0m \u001b[0mpdfplumber\u001b[0m\u001b[0;34m.\u001b[0m\u001b[0mopen\u001b[0m\u001b[0;34m(\u001b[0m\u001b[0mfile_path\u001b[0m\u001b[0;34m)\u001b[0m\u001b[0;34m\u001b[0m\u001b[0;34m\u001b[0m\u001b[0m\n\u001b[0m\u001b[1;32m      7\u001b[0m \u001b[0;34m\u001b[0m\u001b[0m\n\u001b[1;32m      8\u001b[0m \u001b[0;32mdef\u001b[0m \u001b[0mpdf_extracted\u001b[0m\u001b[0;34m(\u001b[0m\u001b[0mfilename\u001b[0m\u001b[0;34m:\u001b[0m \u001b[0mstr\u001b[0m\u001b[0;34m)\u001b[0m\u001b[0;34m:\u001b[0m\u001b[0;34m\u001b[0m\u001b[0;34m\u001b[0m\u001b[0m\n",
      "\u001b[0;32m~/Documents/Solutions/scripts-python/read-text-pdf/.venv/lib64/python3.9/site-packages/pdfplumber/pdf.py\u001b[0m in \u001b[0;36mopen\u001b[0;34m(cls, path_or_fp, **kwargs)\u001b[0m\n\u001b[1;32m     53\u001b[0m     \u001b[0;32mdef\u001b[0m \u001b[0mopen\u001b[0m\u001b[0;34m(\u001b[0m\u001b[0mcls\u001b[0m\u001b[0;34m,\u001b[0m \u001b[0mpath_or_fp\u001b[0m\u001b[0;34m,\u001b[0m \u001b[0;34m**\u001b[0m\u001b[0mkwargs\u001b[0m\u001b[0;34m)\u001b[0m\u001b[0;34m:\u001b[0m\u001b[0;34m\u001b[0m\u001b[0;34m\u001b[0m\u001b[0m\n\u001b[1;32m     54\u001b[0m         \u001b[0;32mif\u001b[0m \u001b[0misinstance\u001b[0m\u001b[0;34m(\u001b[0m\u001b[0mpath_or_fp\u001b[0m\u001b[0;34m,\u001b[0m \u001b[0;34m(\u001b[0m\u001b[0mstr\u001b[0m\u001b[0;34m,\u001b[0m \u001b[0mpathlib\u001b[0m\u001b[0;34m.\u001b[0m\u001b[0mPath\u001b[0m\u001b[0;34m)\u001b[0m\u001b[0;34m)\u001b[0m\u001b[0;34m:\u001b[0m\u001b[0;34m\u001b[0m\u001b[0;34m\u001b[0m\u001b[0m\n\u001b[0;32m---> 55\u001b[0;31m             \u001b[0mfp\u001b[0m \u001b[0;34m=\u001b[0m \u001b[0mopen\u001b[0m\u001b[0;34m(\u001b[0m\u001b[0mpath_or_fp\u001b[0m\u001b[0;34m,\u001b[0m \u001b[0;34m\"rb\"\u001b[0m\u001b[0;34m)\u001b[0m\u001b[0;34m\u001b[0m\u001b[0;34m\u001b[0m\u001b[0m\n\u001b[0m\u001b[1;32m     56\u001b[0m             \u001b[0minst\u001b[0m \u001b[0;34m=\u001b[0m \u001b[0mcls\u001b[0m\u001b[0;34m(\u001b[0m\u001b[0mfp\u001b[0m\u001b[0;34m,\u001b[0m \u001b[0;34m**\u001b[0m\u001b[0mkwargs\u001b[0m\u001b[0;34m)\u001b[0m\u001b[0;34m\u001b[0m\u001b[0;34m\u001b[0m\u001b[0m\n\u001b[1;32m     57\u001b[0m             \u001b[0minst\u001b[0m\u001b[0;34m.\u001b[0m\u001b[0mclose_file\u001b[0m \u001b[0;34m=\u001b[0m \u001b[0mfp\u001b[0m\u001b[0;34m.\u001b[0m\u001b[0mclose\u001b[0m\u001b[0;34m\u001b[0m\u001b[0;34m\u001b[0m\u001b[0m\n",
      "\u001b[0;31mFileNotFoundError\u001b[0m: [Errno 2] No such file or directory: 'in/MAGSAC EMPRESA JUNHO 2.pdf'"
     ]
    }
   ],
   "metadata": {}
  }
 ],
 "metadata": {
  "orig_nbformat": 4,
  "language_info": {
   "name": "python",
   "version": "3.9.6",
   "mimetype": "text/x-python",
   "codemirror_mode": {
    "name": "ipython",
    "version": 3
   },
   "pygments_lexer": "ipython3",
   "nbconvert_exporter": "python",
   "file_extension": ".py"
  },
  "kernelspec": {
   "name": "python3",
   "display_name": "Python 3.9.6 64-bit ('.venv': venv)"
  },
  "interpreter": {
   "hash": "d6c9532fbfa0f93218c407179d0c17c9bfbcb19c68235869049e591df33d86b7"
  }
 },
 "nbformat": 4,
 "nbformat_minor": 2
}