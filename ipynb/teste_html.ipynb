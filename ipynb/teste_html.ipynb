{
 "cells": [
  {
   "cell_type": "code",
   "execution_count": 1,
   "source": [
    "from pprint import pprint\n",
    "\n",
    "import pdftotree\n",
    "\n",
    "xml = pdftotree.parse('../pdfs/Barbosa ENEL_SP loja 19 abr21.pdf', html_path=\"teste.html\")\n",
    "\n",
    "# help(pdftotree)"
   ],
   "outputs": [],
   "metadata": {}
  },
  {
   "cell_type": "code",
   "execution_count": null,
   "source": [
    "import html_to_json\n",
    "\n",
    "list_string = []\n",
    "with open('teste.html', 'r') as html:\n",
    "    for line_html in html:\n",
    "        list_string.append(line_html.replace('\\t', '').replace('\\n',''))\n",
    "\n",
    "# output_json = html_to_json.convert_tables(string_html)\n",
    "# print(output_json)"
   ],
   "outputs": [],
   "metadata": {}
  },
  {
   "cell_type": "code",
   "execution_count": null,
   "source": [
    "# pprint(list_string)\n",
    "exist_table = False\n",
    "for string in list_string:\n",
    "    if '<table' in string:\n",
    "        exist_table = True\n",
    "\n",
    "    if exist_table:\n",
    "        pprint(string)\n",
    "\n",
    "    if '</table' in string:\n",
    "        exist_table = False"
   ],
   "outputs": [],
   "metadata": {}
  }
 ],
 "metadata": {
  "orig_nbformat": 4,
  "language_info": {
   "name": "python",
   "version": "3.9.6",
   "mimetype": "text/x-python",
   "codemirror_mode": {
    "name": "ipython",
    "version": 3
   },
   "pygments_lexer": "ipython3",
   "nbconvert_exporter": "python",
   "file_extension": ".py"
  },
  "kernelspec": {
   "name": "python3",
   "display_name": "Python 3.9.6 64-bit ('.venv': venv)"
  },
  "interpreter": {
   "hash": "d6c9532fbfa0f93218c407179d0c17c9bfbcb19c68235869049e591df33d86b7"
  }
 },
 "nbformat": 4,
 "nbformat_minor": 2
}