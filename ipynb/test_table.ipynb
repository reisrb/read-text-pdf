{
 "cells": [
  {
   "cell_type": "code",
   "execution_count": null,
   "source": [
    "from model.pdf import Pdf\n",
    "from model.columns_pdf import ColumnsPdf\n",
    "import pdfplumber\n",
    "from pprint import pprint"
   ],
   "outputs": [],
   "metadata": {}
  },
  {
   "cell_type": "code",
   "execution_count": null,
   "source": [
    "with pdfplumber.open('./pdfs/CDMATR~1.PDF') as pdf:\n",
    "    page = pdf.pages[0]\n",
    "    texts = list(filter(lambda i: i, (map(lambda it: j.split('\\n') if (j := it.extract_text()) else None, pdf.pages))))\n",
    "\n",
    "    table = page.extract_table(table_settings={\"vertical_strategy\": \"lines\", \n",
    "                                         \"horizontal_strategy\": \"text\", \n",
    "                                         \"snap_tolerance\": 2,})\n",
    "    \n",
    "pdf = Pdf()\n",
    "columns_pdf = ColumnsPdf()"
   ],
   "outputs": [],
   "metadata": {}
  },
  {
   "cell_type": "code",
   "execution_count": null,
   "source": [
    "list_lines = []\n",
    "cont_exist = False\n",
    "list_exists = []\n",
    "\n",
    "for line in table:\n",
    "    print(\"\\033[93m line =\\033[0m\", line)\n",
    "    for text in texts[0][21:]:\n",
    "        if line[0] in text:\n",
    "            if line[0] in list_exists:\n",
    "                cont_exist = True\n",
    "            else:\n",
    "                cont_exist = False\n",
    "\n",
    "            if cont_exist:\n",
    "                list_exists.clear()\n",
    "                continue\n",
    "\n",
    "            list_exists.append(line[0])\n",
    "            \n",
    "            # print(\"\\033[96m text_finded =\\033[0m\", text)\n",
    "            print(\"\\033[92m finded =\\033[0m\", text.split())\n",
    "            columns_pdf.cci = text.split()[0] if text.split()[0].isdigit() else ''\n",
    "            columns_pdf.descricao = line[0]\n",
    "            columns_pdf.leitura_alterior = line[1]\n",
    "            columns_pdf.leitura_atual = line[2]\n",
    "            columns_pdf.registrado = line[3]\n",
    "            columns_pdf.faturado = line[4]\n",
    "            columns_pdf.tarifa_com_icms = line[5]\n",
    "            columns_pdf.base_icms = line[6]\n",
    "            columns_pdf.aliq_icms = line[7]\n",
    "            columns_pdf.icms = line[8]\n",
    "            columns_pdf.valor = line[9]\n",
    "\n",
    "            if text.split()[-1] != line[-1]:\n",
    "                columns_pdf.tarifa_sem_impostos = text.split()[-1]\n",
    "\n",
    "            pprint(columns_pdf)\n",
    "            list_lines.append(columns_pdf)\n",
    "            break\n",
    "pdf.tabela = list_lines\n"
   ],
   "outputs": [],
   "metadata": {}
  }
 ],
 "metadata": {
  "orig_nbformat": 4,
  "language_info": {
   "name": "python",
   "version": "3.9.6",
   "mimetype": "text/x-python",
   "codemirror_mode": {
    "name": "ipython",
    "version": 3
   },
   "pygments_lexer": "ipython3",
   "nbconvert_exporter": "python",
   "file_extension": ".py"
  },
  "kernelspec": {
   "name": "python3",
   "display_name": "Python 3.9.6 64-bit ('.venv': venv)"
  },
  "interpreter": {
   "hash": "d6c9532fbfa0f93218c407179d0c17c9bfbcb19c68235869049e591df33d86b7"
  }
 },
 "nbformat": 4,
 "nbformat_minor": 2
}