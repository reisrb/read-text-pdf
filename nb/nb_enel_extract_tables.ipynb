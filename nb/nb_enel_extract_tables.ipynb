{
 "cells": [
  {
   "cell_type": "markdown",
   "metadata": {},
   "source": [
    "# Extração de Tabelas\n",
    "---"
   ]
  },
  {
   "cell_type": "markdown",
   "metadata": {},
   "source": [
    "# Imports"
   ]
  },
  {
   "cell_type": "code",
   "execution_count": null,
   "metadata": {},
   "outputs": [],
   "source": [
    "from decimal import Decimal\n",
    "import pdfplumber\n",
    "import pandas as pd\n",
    "import numpy as np\n",
    "from dataclasses import dataclass\n",
    "from IPython.display import display\n",
    "from os import listdir"
   ]
  },
  {
   "cell_type": "markdown",
   "metadata": {},
   "source": [
    "# Open"
   ]
  },
  {
   "cell_type": "code",
   "execution_count": null,
   "metadata": {},
   "outputs": [],
   "source": [
    "path = \"../in/enel/\"\n",
    "files = listdir(path)\n",
    "i_file = 0\n",
    "pdf = pdfplumber.open(path + files[i_file])\n",
    "display(\n",
    "    files,\n",
    "    files[i_file]\n",
    ")"
   ]
  },
  {
   "cell_type": "markdown",
   "metadata": {},
   "source": [
    "# Display Dataframe"
   ]
  },
  {
   "cell_type": "code",
   "execution_count": null,
   "metadata": {},
   "outputs": [],
   "source": [
    "def df(vertical: list, horizontal: list, page: int):\n",
    "    _df = pd.DataFrame(pdf.pages[page].extract_tables({\n",
    "        \"vertical_strategy\": \"explicit\", \"horizontal_strategy\": \"explicit\", \"snap_tolerance\": 3,\n",
    "        \"explicit_vertical_lines\": vertical, \"explicit_horizontal_lines\": horizontal,\n",
    "    })[0])\n",
    "    _df.replace('', np.nan, inplace=True)\n",
    "    _df.dropna(how=\"all\", inplace=True)\n",
    "    _df.replace(np.nan, '', inplace=True)\n",
    "    return _df"
   ]
  },
  {
   "cell_type": "markdown",
   "metadata": {},
   "source": [
    "# Display image"
   ]
  },
  {
   "cell_type": "code",
   "execution_count": null,
   "metadata": {},
   "outputs": [],
   "source": [
    "def im(vertical: list, horizontal: list, page: int, resolution=40):\n",
    "    return pdf.pages[page].to_image(resolution=resolution).debug_tablefinder({\n",
    "        \"vertical_strategy\": \"explicit\", \"horizontal_strategy\": \"explicit\", \"snap_tolerance\": 3,\n",
    "        \"explicit_vertical_lines\": vertical, \"explicit_horizontal_lines\": horizontal,\n",
    "    })"
   ]
  },
  {
   "cell_type": "markdown",
   "metadata": {},
   "source": [
    "# Objeto linha `NOVO`"
   ]
  },
  {
   "cell_type": "code",
   "execution_count": null,
   "metadata": {},
   "outputs": [],
   "source": [
    "def vline(x: float, top: float = 0, bottom: float = 900, *, height: float = 3, width: float = 3):\n",
    "    return {\n",
    "        \"top\": Decimal(top),\n",
    "        \"bottom\": Decimal(bottom),\n",
    "        \"x0\": Decimal(x),\n",
    "        \"x1\": Decimal(x),\n",
    "        \"height\": Decimal(3),\n",
    "        \"width\": Decimal(3),\n",
    "        \"object_type\": \"line\"\n",
    "    }\n",
    "\n",
    "\n",
    "def hline(y: float, left: float = 0, right: float = 600, *, height: float = 3, width: float = 3):\n",
    "    return {\n",
    "        \"top\": Decimal(y),\n",
    "        \"bottom\": Decimal(y),\n",
    "        \"x0\": Decimal(left),\n",
    "        \"x1\": Decimal(right),\n",
    "        \"height\": Decimal(3),\n",
    "        \"width\": Decimal(3),\n",
    "        \"object_type\": \"line\"\n",
    "    }"
   ]
  },
  {
   "cell_type": "markdown",
   "metadata": {},
   "source": [
    "# Extração de Tabelas"
   ]
  },
  {
   "cell_type": "markdown",
   "metadata": {},
   "source": [
    "- ## Tabela 1: Dados do Cliente/Unidade Consumidora `PG 0`"
   ]
  },
  {
   "cell_type": "code",
   "execution_count": null,
   "metadata": {},
   "outputs": [],
   "source": [
    "cf = (\n",
    "    [43.3, vline(150, 47.8, 56), vline(160, 37, 47.8), 280],\n",
    "    [37, 47.8, 56, 73, 81, 96],\n",
    "    0,\n",
    ")\n",
    "\n",
    "display(\n",
    "    im(*cf),\n",
    "    df(*cf),\n",
    ")"
   ]
  },
  {
   "cell_type": "markdown",
   "metadata": {},
   "source": [
    "- ## Tabela 2: Dados da Conta `PG 0`"
   ]
  },
  {
   "cell_type": "code",
   "execution_count": null,
   "metadata": {},
   "outputs": [],
   "source": [
    "# TODO"
   ]
  },
  {
   "cell_type": "markdown",
   "metadata": {},
   "source": [
    "- ## Tabela 3: Dados de Medição `PG 0`"
   ]
  },
  {
   "cell_type": "code",
   "execution_count": null,
   "metadata": {},
   "outputs": [],
   "source": [
    "cf = (\n",
    "    [419, 551],\n",
    "    [36, 46, 56, 66, 76],\n",
    "    0,\n",
    ")\n",
    "display(\n",
    "    im(*cf),\n",
    "    df(*cf),\n",
    ")"
   ]
  },
  {
   "cell_type": "markdown",
   "metadata": {},
   "source": [
    "- ## Tabela 4: Classificação da Unidade Consumidora `PG 0`"
   ]
  },
  {
   "cell_type": "code",
   "execution_count": null,
   "metadata": {},
   "outputs": [],
   "source": [
    "cf = (\n",
    "    [43.3, vline(79, 108, 117), vline(132, 108, 117), vline(147, 131, 140), 280],\n",
    "    [108, 117, 131, 140, 149],\n",
    "    0,\n",
    ")\n",
    "display(\n",
    "    im(*cf),\n",
    "    df(*cf),\n",
    ")"
   ]
  },
  {
   "cell_type": "markdown",
   "metadata": {},
   "source": [
    "- ## Tabela 5: Histórico de Faturamento `PG 0`"
   ]
  },
  {
   "cell_type": "code",
   "execution_count": null,
   "metadata": {},
   "outputs": [],
   "source": [
    "# TODO"
   ]
  },
  {
   "cell_type": "markdown",
   "metadata": {},
   "source": [
    "- ## Tabela 6: Reservado ao Fisco `PG 0`"
   ]
  },
  {
   "cell_type": "code",
   "execution_count": null,
   "metadata": {},
   "outputs": [],
   "source": [
    "cf = (\n",
    "    [43.3, vline(91, 161, 180), vline(131, 161, 180), vline(150, 161, 180), vline(195, 161, 180), vline(223, 161, 180), 280],\n",
    "    [150, 161, 180, 190],\n",
    "    0,\n",
    ")\n",
    "display(\n",
    "    im(*cf),\n",
    "    df(*cf),\n",
    ")"
   ]
  },
  {
   "cell_type": "markdown",
   "metadata": {},
   "source": [
    "- ## Tabela 7: Descrição de Faturamento `PG 0`"
   ]
  },
  {
   "cell_type": "code",
   "execution_count": null,
   "metadata": {},
   "outputs": [],
   "source": [
    "cf = (\n",
    "    [30, 55, 205, 175, 235, 275, 313, 352, 402, 421, 456, 513, 555],\n",
    "    [207, *[222+7.25*i for i in range(53)]],\n",
    "    0,\n",
    ")\n",
    "display(\n",
    "    im(*cf),\n",
    "    df(*cf),\n",
    ")"
   ]
  },
  {
   "cell_type": "markdown",
   "metadata": {},
   "source": [
    "- ## Tabela 1: { Datas } `PG 1`"
   ]
  },
  {
   "cell_type": "code",
   "execution_count": null,
   "metadata": {},
   "outputs": [],
   "source": [
    "cf = (\n",
    "    [370, 431, 495,  550],\n",
    "    [79, 93, 108],\n",
    "    1,\n",
    ")\n",
    "display(\n",
    "    im(*cf),\n",
    "    df(*cf),\n",
    ")"
   ]
  }
 ],
 "metadata": {
  "interpreter": {
   "hash": "c0080a7e881a86e333977ef3f6e48792ee710fa4f6c703bbee13bedb6d9130a7"
  },
  "kernelspec": {
   "display_name": "Python 3.8.10 64-bit ('.venv': venv)",
   "name": "python3"
  },
  "language_info": {
   "codemirror_mode": {
    "name": "ipython",
    "version": 3
   },
   "file_extension": ".py",
   "mimetype": "text/x-python",
   "name": "python",
   "nbconvert_exporter": "python",
   "pygments_lexer": "ipython3",
   "version": "3.8.10"
  },
  "orig_nbformat": 4
 },
 "nbformat": 4,
 "nbformat_minor": 2
}
