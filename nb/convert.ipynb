{
 "cells": [
  {
   "cell_type": "code",
   "execution_count": null,
   "metadata": {},
   "outputs": [],
   "source": [
    "from typing import List\n",
    "\n",
    "import pdfplumber\n",
    "import pandas as pd \n",
    "from abc import ABCMeta, abstractmethod\n",
    "import numpy as np\n",
    "\n",
    "from model.pdf import Pdf\n",
    "\n",
    "from dataclasses import dataclass"
   ]
  },
  {
   "cell_type": "code",
   "execution_count": null,
   "metadata": {},
   "outputs": [],
   "source": [
    "#specified pdf \n",
    "def factory(tables: List[pd.DataFrame]) -> ...:\n",
    "    ...\n",
    "\n",
    "def open_file(file_path: str):\n",
    "    return pdfplumber.open(file_path)\n",
    "\n",
    "def pdf_extracted(filename: str):\n",
    "    pdf = pdfplumber.open(filename)\n",
    "    return extract_all_tables(pdf)\n",
    "    # return factory(tables)\n",
    "\n",
    "def extract_all_tables(pdf) -> List[pd.DataFrame]:\n",
    "    tables = []\n",
    "    tables.append(extract_table_operacao(pdf, 0))\n",
    "    tables.append(extract_table_operacao(pdf, 1))\n",
    "    return tables\n",
    "\n",
    "def extract_table_operacao(pdf, page: int = 0):\n",
    "    return pd.DataFrame(pdf.pages[0].extract_tables({\n",
    "        \"vertical_strategy\": \"explicit\", \"horizontal_strategy\": \"explicit\", \"snap_tolerance\": 3,\n",
    "        \"explicit_vertical_lines\": [45, 60, 150, 175, 220, 255, 270, 305, 350, 390, 410, 440, 490, 520, 550], \n",
    "        \"explicit_horizontal_lines\": [290, 312, *[322+(10*i) for i in range(23)]],\n",
    "    })[0])\n",
    "\n",
    "def frame_table(pdf):\n",
    "    extracted = pdf.pages[0].extract_tables({\n",
    "        \"vertical_strategy\": \"explicit\", \"horizontal_strategy\": \"explicit\", \"snap_tolerance\": 3,\n",
    "        \"explicit_vertical_lines\": \n",
    "        [\n",
    "            45, 60, 150, 175, 220, 255, 270, 305, 350, 390, 410, 440, 490, 520, 550\n",
    "        ], \n",
    "        \"explicit_horizontal_lines\": [290, 312, *[322+(10*i) for i in range(23)]],\n",
    "    })[0]\n",
    "\n",
    "    return pd.DataFrame(extracted)\n",
    "\n",
    "def view_pdf(pdf):\n",
    "    im = pdf.pages[0].to_image(resolution=120)\n",
    "    return im.debug_tablefinder({\n",
    "        \"vertical_strategy\": \"explicit\", \"horizontal_strategy\": \"explicit\", \"snap_tolerance\": 3,\n",
    "        \"explicit_vertical_lines\": [\n",
    "            45, 60, 150, 175, 220, 255, 270, 305, 350, 390, 410, 440, 490, 520, 550], \n",
    "        \"explicit_horizontal_lines\": [290, 312, *[322+(10*i) for i in range(23)]],\n",
    "        })\n"
   ]
  },
  {
   "cell_type": "code",
   "execution_count": null,
   "metadata": {},
   "outputs": [],
   "source": [
    "# aaaa = pdf_extracted(\"in/MAGSAC EMPRESA JUNHO 2.pdf\")\n",
    "# frame_table(open_file(\"in/MAGSAC EMPRESA JUNHO 2.pdf\"))\n",
    "view_pdf(open_file(\"in/cpfl/MAGSAC EMPRESA JUNHO 2.pdf\"))"
   ]
  }
 ],
 "metadata": {
  "interpreter": {
   "hash": "d6c9532fbfa0f93218c407179d0c17c9bfbcb19c68235869049e591df33d86b7"
  },
  "kernelspec": {
   "display_name": "Python 3.9.6 64-bit ('.venv': venv)",
   "name": "python3"
  },
  "language_info": {
   "codemirror_mode": {
    "name": "ipython",
    "version": 3
   },
   "file_extension": ".py",
   "mimetype": "text/x-python",
   "name": "python",
   "nbconvert_exporter": "python",
   "pygments_lexer": "ipython3",
   "version": "3.9.6"
  },
  "orig_nbformat": 4
 },
 "nbformat": 4,
 "nbformat_minor": 2
}
