{
 "cells": [
  {
   "cell_type": "code",
   "execution_count": null,
   "metadata": {},
   "outputs": [],
   "source": [
    "from os import listdir\n",
    "from pprint import pprint\n",
    "from tqdm import tqdm\n",
    "\n",
    "from typing import List\n",
    "\n",
    "import pdfplumber\n",
    "import pandas as pd\n",
    "\n",
    "from model.columns_pdf import ColumnsPdf\n",
    "from model.pdf import Pdf\n",
    "from model.cpfl import Cpfl\n"
   ]
  },
  {
   "cell_type": "code",
   "execution_count": null,
   "metadata": {},
   "outputs": [],
   "source": [
    "from decimal import Decimal\n",
    "import pandas as pd\n",
    "\n",
    "class Cpfl:\n",
    "    filename = ...\n",
    "    pdf = ...\n",
    "\n",
    "    def __init__(self, filename):\n",
    "        self.filename = filename\n",
    "        self.pdf = pdfplumber.open(self.filename)\n",
    "        ...\n",
    "\n",
    "    def __exit__(self):\n",
    "        if self.pdf is not None:\n",
    "            self.pdf.close()\n",
    "\n",
    "    @property\n",
    "    def view_pdf(self):\n",
    "        im = self.pdf.pages[0].to_image(resolution=120)\n",
    "        return im.debug_tablefinder({\n",
    "            \"vertical_strategy\": \"explicit\", \"horizontal_strategy\": \"explicit\", \"snap_tolerance\": 3,\n",
    "            \"explicit_vertical_lines\": [\n",
    "                45, 60, 150, 175, 220, 255, 270, 305, 350, 390, 410, 440, 490, 520, 550], \n",
    "            \"explicit_horizontal_lines\": [290, 312, *[322+(10*i) for i in range(23)]],\n",
    "            })\n",
    "\n",
    "    @property\n",
    "    def frame_table(self):\n",
    "        extracted = self.pdf.pages[0].extract_tables({\n",
    "            \"vertical_strategy\": \"explicit\", \"horizontal_strategy\": \"explicit\", \"snap_tolerance\": 3,\n",
    "            \"explicit_vertical_lines\": \n",
    "            [\n",
    "                45, 60, 150, 175, 220, 255, 270, 305, 350, 390, 410, 440, 490, 520, 550\n",
    "            ], \n",
    "            \"explicit_horizontal_lines\": [290, 312, *[322+(10*i) for i in range(23)]],\n",
    "        })[0]\n",
    "\n",
    "        return pd.DataFrame(extracted[1:], columns=extracted[0])"
   ]
  },
  {
   "cell_type": "code",
   "execution_count": null,
   "metadata": {},
   "outputs": [],
   "source": [
    "cpfl = Cpfl(\"in/MAGSAC EMPRESA JUNHO 2.pdf\")\n",
    "cpfl.frame_table"
   ]
  },
  {
   "cell_type": "code",
   "execution_count": null,
   "metadata": {},
   "outputs": [],
   "source": [
    "def read_pdf(path: str):\n",
    "    with pdfplumber.open(path) as pdf:\n",
    "        texts = []\n",
    "        table = []\n",
    "        for page in pdf.pages:\n",
    "            extracted = page.extract_text(y_tolerance=4)\n",
    "            if extracted is None:\n",
    "                continue\n",
    "            texts += filter(lambda i: i, extracted.split(\"\\n\"))\n",
    "            table += page.extract_table(table_settings={\n",
    "                \"vertical_strategy\": \"lines\",\n",
    "                \"horizontal_strategy\": \"text\",\n",
    "                \"snap_tolerance\": 2,\n",
    "            }) or []\n",
    "    return texts, table\n",
    "\n",
    "# DEBUG\n",
    "# texts, table = read_pdf(\"/home/marcelo-a/Downloads/Faturas/Varejo/Loja 08 - Elektro Junho 21.pdf\") # Elektro\n",
    "texts, table = read_pdf(\"/home/marcelo-a/Downloads/Faturas/Gestao/MAGSAC EMPRESA JUNHO 2.pdf\") # Elektro\n",
    "pd.DataFrame(texts)\n",
    "# texts[17].split()[-2]\n",
    "# texts[17].split()[-1]\n",
    "# texts[60].split()[-2]\n",
    "# texts[62].split()"
   ]
  },
  {
   "cell_type": "code",
   "execution_count": null,
   "metadata": {},
   "outputs": [],
   "source": [
    "pd.DataFrame(texts1)[:30]"
   ]
  },
  {
   "cell_type": "code",
   "execution_count": null,
   "metadata": {},
   "outputs": [],
   "source": [
    "def convert_table(texts: list, table: list):\n",
    "    list_lines = []\n",
    "    list_exists = []\n",
    "    for line in table:\n",
    "        for j, text in enumerate(texts):\n",
    "            if line[0] in text:\n",
    "                if j in list_exists:\n",
    "                    continue\n",
    "                else:\n",
    "                    list_exists.append(j)\n",
    "                \n",
    "                columns_pdf = ColumnsPdf()\n",
    "                columns_pdf.cci = text.split()[0] if text.split()[0].isdigit() else \"\"\n",
    "                columns_pdf.descricao = line[0]\n",
    "                columns_pdf.leitura_alterior = line[1]\n",
    "                columns_pdf.leitura_atual = line[2]\n",
    "                columns_pdf.registrado = line[3]\n",
    "                columns_pdf.faturado = line[4]\n",
    "                columns_pdf.tarifa_com_icms = line[5]\n",
    "                columns_pdf.base_icms = line[6]\n",
    "                columns_pdf.aliq_icms = line[7]\n",
    "                columns_pdf.icms = line[8]\n",
    "                columns_pdf.valor = line[9]\n",
    "                columns_pdf.tarifa_sem_impostos = text.split()[-1] if line[-1] and text.split()[-1] != line[-1] else \"\"\n",
    "                list_lines.append(columns_pdf)\n",
    "                break\n",
    "    columns_pdf = ColumnsPdf()\n",
    "    columns_pdf.cci = texts[j+1].split()[0]\n",
    "    columns_pdf.descricao = \" \".join(texts[j+1].split()[1:-1])\n",
    "    columns_pdf.valor = texts[j+1].split()[-1]\n",
    "    list_lines.append(columns_pdf)\n",
    "    return list_lines\n",
    "\n",
    "# DEBUG\n",
    "# convert_table(texts, table)"
   ]
  },
  {
   "cell_type": "code",
   "execution_count": null,
   "metadata": {},
   "outputs": [],
   "source": [
    "def convert(texts: list, table: list):\n",
    "    pdf = Pdf()\n",
    "\n",
    "    numbers = texts[2].split(' ')\n",
    "    pdf.n_instalacao, pdf.n_cliente, pdf.n_medidor = numbers[0], numbers[1], numbers[2]\n",
    "    pdf.cnpj = texts[3].split('CPF/CNPJ:')[1].split(' ')[1]\n",
    "    pdf.endereco = texts[6]\n",
    "    pdf.subgrupo = texts[9].split()[1]\n",
    "    pdf.data_emissao= \" \".join(texts[-4].split()[:3])\n",
    "    pdf.referente= \" \".join(texts[-4].split()[3:5])\n",
    "    pdf.vencimento= \" \".join(texts[-4].split()[5:])\n",
    "    if \"Azul\" in texts[12]:\n",
    "        pdf.modalidade = \"Azul\"\n",
    "        pdf.demanda_hora_ponta = texts[13].split()[1]\n",
    "        pdf.demanda_hora_fora_ponta = texts[13].split()[4]\n",
    "    elif \"Verde\" in texts[12]:\n",
    "        pdf.modalidade = \"Verde\"\n",
    "        pdf.demanda_unica = texts[13].split()[0]\n",
    "    \n",
    "    for text in texts:\n",
    "        if 'CEP' in text:\n",
    "            pdf.cep = text.split(' ')[1]\n",
    "            break\n",
    "\n",
    "    pdf.tabela = convert_table(texts, table)\n",
    "\n",
    "    for line in pdf.tabela:\n",
    "        if line.aliq_icms[:-1].isdigit() and line.aliq_icms[:-1] != \"0\" :\n",
    "            pdf.aliquota = line.aliq_icms\n",
    "            break\n",
    "    else:\n",
    "        pdf.aliquota = \"0%\"\n",
    "            \n",
    "    return pdf\n",
    "\n",
    "# DEBUG\n",
    "# TODO\n",
    "# table.insert(33, ['PIS/PASEP (0,59%)', '', '', '', '', '', '0,00', '0%', '0,00', '77,21-']) # teste\n",
    "# texts[0].insert(54, '0699 PIS/PASEP (0,59%) 0,00 0% 0,00 77,27-') # teste"
   ]
  },
  {
   "cell_type": "code",
   "execution_count": null,
   "metadata": {
    "tags": []
   },
   "outputs": [],
   "source": [
    "def full(path: str):\n",
    "    texts, table = read_pdf(path)\n",
    "    pdf = convert(texts, table)\n",
    "    pdf.filename = path.split(\"/\")[-1]\n",
    "    return pdf\n",
    "\n",
    "# DEBUG\n",
    "# example = full(\"in/Barbosa ENEL_SP loja 28 mai21.pdf\")\n",
    "# example = full(\"in/Barbosa ENEL_SP loja 37 abr21.pdf\")\n",
    "# example.to_dataframe()\n",
    "# example.tabela_to_dataframe().to_csv('t.csv')"
   ]
  },
  {
   "cell_type": "code",
   "execution_count": null,
   "metadata": {},
   "outputs": [],
   "source": [
    "extracted = []\n",
    "path = \"in\"\n",
    "for file in tqdm(listdir(path)):\n",
    "    try:\n",
    "        extracted.append(full(\"/\".join([path, file])))\n",
    "    except Exception as e:\n",
    "        print(file)\n",
    "        raise e\n"
   ]
  },
  {
   "cell_type": "code",
   "execution_count": null,
   "metadata": {},
   "outputs": [],
   "source": [
    "for text in tqdm(extracted):\n",
    "    pd.concat([text.to_dataframe(), text.tabela_to_dataframe()]).to_csv('out/' + text.filename.replace('.pdf', '.csv'))"
   ]
  },
  {
   "cell_type": "code",
   "execution_count": null,
   "metadata": {},
   "outputs": [],
   "source": [
    "# from wand.image import Image\n",
    "# from os import listdir\n",
    "# from tqdm import tqdm\n",
    "# from IPython.display import display, clear_output\n",
    "\n",
    "# for t in tqdm(extracted):\n",
    "#     clear_output()\n",
    "#     display(t.to_dataframe())\n",
    "#     display(Image(filename=\"/\".join([path, t.filename]), resolution=200))\n",
    "#     display(t.tabela_to_dataframe())\n",
    "#     input('Press enter to skip')\n",
    "# # img"
   ]
  },
  {
   "cell_type": "code",
   "execution_count": null,
   "metadata": {
    "tags": []
   },
   "outputs": [],
   "source": [
    "from wand.image import Image\n",
    "\n",
    "with open(\"in/Barbosa ENEL_SP loja 19 abr21.pdf\", \"r\") as p:\n",
    "    /help Image(file=p)"
   ]
  },
  {
   "cell_type": "markdown",
   "metadata": {},
   "source": [
    "# TODO\n",
    "- [x] Adicionar `Data Emissao`\n",
    "- [x] Adicionar `Referente a`\n",
    "- [x] Adicionar `Vencimento`\n",
    "- [x] Adicionar `Subgrupo`\n",
    "- [x] Adicionar `Modalidade`\n",
    "- [x] Adicionar `Demanda Contratada` / `Hora Ponta` & `Hora Ponta Fora`\n",
    "- [x] Adicionar `Aliquota (Ja está dentro da tabela)`"
   ]
  }
 ],
 "metadata": {
  "interpreter": {
   "hash": "d6c9532fbfa0f93218c407179d0c17c9bfbcb19c68235869049e591df33d86b7"
  },
  "kernelspec": {
   "display_name": "Python 3.9.6 64-bit ('.venv': venv)",
   "name": "python3"
  },
  "language_info": {
   "codemirror_mode": {
    "name": "ipython",
    "version": 3
   },
   "file_extension": ".py",
   "mimetype": "text/x-python",
   "name": "python",
   "nbconvert_exporter": "python",
   "pygments_lexer": "ipython3",
   "version": "3.9.6"
  },
  "orig_nbformat": 4
 },
 "nbformat": 4,
 "nbformat_minor": 2
}
