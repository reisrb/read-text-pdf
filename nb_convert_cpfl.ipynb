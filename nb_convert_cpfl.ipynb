{
 "cells": [
  {
   "cell_type": "code",
   "execution_count": null,
   "source": [
    "import pprint\n",
    "import pdfplumber\n",
    "import pandas as pd \n",
    "import numpy as np\n",
    "\n",
    "from typing import List\n",
    "from abc import ABCMeta, abstractmethod\n",
    "from dataclasses import dataclass"
   ],
   "outputs": [],
   "metadata": {}
  },
  {
   "cell_type": "code",
   "execution_count": null,
   "source": [
    "class Pdf():\n",
    "    numero_instalacao: str = \"\"\n",
    "    numero_cliente: str = \"\"\n",
    "    numero_medidor: str = \"\"\n",
    "    grupo_tarifario: str = \"\"\n",
    "    modalidade_tarifaria: str = \"\"\n",
    "    dem_cont_ep: str = \"\"\n",
    "    dem_cont_efp: str = \"\"\n",
    "    valor_fat_acl: str = \"\"\n",
    "    pis: str = \"\"\n",
    "    cofins: str = \"\"\n",
    "    icms: str = \"\"\n",
    "    usd_ep: str = \"\"\n",
    "    usd_efp: str = \"\"\n",
    "    ufer_ep: str = \"\"\n",
    "    ufer_efp: str = \"\"\n",
    "    ufdr_ep: str = \"\"\n",
    "    ufdr_efp: str = \"\"\n",
    "    cip_cosip: str = \"\"\n",
    "    subv_tar: str = \"\"\n",
    "    cde_covid_ep: str = \"\"\n",
    "    cde_covid_efp: str = \"\"\n",
    "    fat_car_ep: str = \"\"\n",
    "    fat_car_efp: str = \"\"\n",
    "\n",
    "    def to_csv(self):\n",
    "        ..."
   ],
   "outputs": [],
   "metadata": {}
  },
  {
   "cell_type": "code",
   "execution_count": null,
   "source": [
    "class Converter(metaclass=ABCMeta):\n",
    "    table = ...\n",
    "\n",
    "    def convert_table(self, vertical: list, horizontal: list, page: int):\n",
    "        _df = pd.DataFrame(self.pdf.pages[page].extract_tables({\n",
    "            \"vertical_strategy\": \"explicit\", \"horizontal_strategy\": \"explicit\", \"snap_tolerance\": 3,\n",
    "            \"explicit_vertical_lines\": vertical, \"explicit_horizontal_lines\": horizontal,\n",
    "        })[0])\n",
    "        _df.replace('', np.nan, inplace=True)\n",
    "        _df.dropna(how=\"all\", inplace=True)\n",
    "        _df.replace(np.nan, '', inplace=True)\n",
    "        return _df\n",
    "\n",
    "    def to_img(self, vertical: list, horizontal: list, page: int, resolution=120):\n",
    "        return self.pdf.pages[page].to_image(resolution=resolution).debug_tablefinder({\n",
    "            \"vertical_strategy\": \"explicit\", \"horizontal_strategy\": \"explicit\", \"snap_tolerance\": 3,\n",
    "            \"explicit_vertical_lines\": vertical, \"explicit_horizontal_lines\": horizontal,\n",
    "        })\n",
    "\n",
    "    def get_dataframe(self) -> Pdf:\n",
    "        df = [[] for x in range(len(self.pdf.pages))]\n",
    "\n",
    "        for table in self.tables:\n",
    "            page = int(table[-1])\n",
    "            df[page].append(self.convert_table(self.tables[table][0], self.tables[table][1], page))\n",
    "\n",
    "        return df\n",
    "    \n",
    "\n",
    "    @abstractmethod\n",
    "    def to_dataclass(self):\n",
    "        ..."
   ],
   "outputs": [],
   "metadata": {}
  },
  {
   "cell_type": "code",
   "execution_count": 115,
   "source": [
    "@dataclass\n",
    "class CpflConverter(Converter):\n",
    "    tables = {\n",
    "        # {\n",
    "        #     f\"endereco_{i}\": ([1, ..., 99], [1, ..., 99]) for i in range(2)\n",
    "        # },\n",
    "        **{ #0\n",
    "            f\"roteiro_de_leitura_{i}\": ([45, 170, 220, 320, 550], [150, 162, 175]) for i in range(2)\n",
    "        },\n",
    "        **{ #1\n",
    "            f\"dados_do_seu_codigo_{i}\": ([45, 280, 550], [190, 205, 215, 225, 240]) for i in range(2)\n",
    "        },\n",
    "        **{ #2\n",
    "            f\"atendimento_cpfl_{i}\": ([45, 143, 195, 260, 350, 440, 550], [255, 280]) for i in range(2)\n",
    "        },\n",
    "        **{ #3\n",
    "            f\"discriminacao_da_operacao_{i}\": ([45, 62, 150, 175, 220, 255, 270, 305, 350, 390, 410, 440, 490, 520, 550], [290, 312, *[322+(10*x) for x in range(23)]]) for i in range(2)\n",
    "        },\n",
    "        **{ #  ultima pagina\n",
    "            \"demanda_contratada_2\": ([47, 80, 167], [148, 156, 163, 170, 180])\n",
    "        },\n",
    "        **{ #  ultima pagina\n",
    "            \"tarifa_aneel_2\": ([193, 255, 312, 372, 432, 490, 548], [193, *[201+(6.6*i) for i in range(5)], 237])\n",
    "        },\n",
    "    }\n",
    "\n",
    "    # TODO: arrumar o __init__\n",
    "    def __init__(self, file_path: str):\n",
    "        self.pdf = pdfplumber.open(file_path)\n",
    "\n",
    "    def __enter__(self):\n",
    "        print(\"Reading PDF\")\n",
    "        return self    \n",
    "\n",
    "    def __exit__(self):\n",
    "        print(\"Closing PDF\")\n",
    "        self.pdf.close()\n",
    "        \n",
    "    # TODO: abrir o arquivo ao usar a função e fechar a porta ao sair \n",
    "    def to_dataclass(self):\n",
    "        pdf = Pdf()\n",
    "        df = self.get_dataframe()\n",
    "\n",
    "        pdf.numero_instalacao = df[0][0][1]\n",
    "        pdf.grupo_tarifario = df[0][1][1][0].split(\"-\")[1][0:2]\n",
    "        pdf.modalidade_tarifaria = \"Verde\" if \"verde\" in df[0][1][1][0].lower() else \"Azul\"\n",
    "        pdf.n_medidor = df[0][2][1]\n",
    "        pdf.numero_cliente = df[0][2][2]\n",
    "\n",
    "        pos_desconto_acl = [pos for pos, char in enumerate(df[0][3][1]) if 'desconto energia acl' in char.lower()]\n",
    "        pdf.valor_fat_acl = df[0][3][7][pos_desconto_acl]\n",
    "\n",
    "        #vem com %\n",
    "        pdf.pis = df[0][3][12][0].split('\\n')[1]\n",
    "        #vem com %\n",
    "        pdf.cofins = df[0][3][13][0].split('\\n')[1]\n",
    "        #icms vem sem %\n",
    "        pdf.icms = df[1][3][9][1]\n",
    "\n",
    "        if pdf.modalidade_tarifaria == \"Azul\":\n",
    "\n",
    "            pos_usd_p = [pos for pos, char in enumerate(df[1][3][1]) if 'uso sist distr ponta' in char.lower()][0]\n",
    "            pdf.usd_ep = df[1][3][4][pos_usd_p]\n",
    "\n",
    "            pos_usd_fp = [pos for pos, char in enumerate(df[1][3][1]) if 'uso sist distr f ponta' in char.lower()][0]\n",
    "            pdf.usd_efp = df[1][3][4][pos_usd_fp]\n",
    "\n",
    "        else:\n",
    "            pos_cde_p = [pos for pos, char in enumerate(df[2][1][2]) if 'cde covid ponta' in char.lower()][0]\n",
    "            pdf.cde_covid_ep = df[2][1][3][pos_cde_p]\n",
    "            pos_cde_fp = [pos for pos, char in enumerate(df[2][1][2]) if 'cde covid fpont' in char.lower()][0]\n",
    "            pdf.cde_covid_ep = df[2][1][3][pos_cde_fp]\n",
    "\n",
    "\n",
    "        pdf.dem_cont_ep = df[2][0][1][1]\n",
    "        pdf.dem_cont_efp = df[2][0][1][2]\n",
    "\n",
    "        return df"
   ],
   "outputs": [],
   "metadata": {}
  },
  {
   "cell_type": "code",
   "execution_count": 116,
   "source": [
    "cpfl = CpflConverter(\"in/cpfl/MAGSAC EMPRESA JUNHO 2.pdf\")#azul"
   ],
   "outputs": [],
   "metadata": {}
  },
  {
   "cell_type": "code",
   "execution_count": 118,
   "source": [
    "cpfl = CpflConverter(\"in/cpfl/CPFL colorflex.pdf\") #verde"
   ],
   "outputs": [],
   "metadata": {}
  },
  {
   "cell_type": "code",
   "execution_count": 82,
   "source": [
    "##verde consultar cliente\n",
    "# pos_usd_consumo_p = [pos for pos, char in enumerate(cpfl.to_dataclass()[1][3][1]) if 'usd consumo reativo ponta' in char.lower()][0]\n",
    "# cpfl.to_dataclass()[1][3]\n",
    "# pos_usd_consumo_fp = [pos for pos, char in enumerate(cpfl.to_dataclass()[1][3][1]) if 'usd consumo reativo fora ponta' in char.lower()][0]\n",
    "# cpfl.to_dataclass()[1][3]"
   ],
   "outputs": [
    {
     "output_type": "execute_result",
     "data": {
      "text/plain": [
       "6"
      ]
     },
     "metadata": {},
     "execution_count": 82
    }
   ],
   "metadata": {}
  },
  {
   "cell_type": "code",
   "execution_count": 119,
   "source": [
    "cpfl.to_dataclass()[1][3][6]"
   ],
   "outputs": [
    {
     "output_type": "execute_result",
     "data": {
      "text/plain": [
       "0     Tarifa com\\nTributos R$\n",
       "1                  0,27749975\n",
       "2                  0,27749988\n",
       "3                  7,80782313\n",
       "4                  0,10830836\n",
       "5                  0,58221254\n",
       "6                  0,36529537\n",
       "7                  0,36529804\n",
       "8                  0,00373137\n",
       "9                  0,00373224\n",
       "10                           \n",
       "11                           \n",
       "12                           \n",
       "13                           \n",
       "14                           \n",
       "15                           \n",
       "16                           \n",
       "17                           \n",
       "23                           \n",
       "Name: 6, dtype: object"
      ]
     },
     "metadata": {},
     "execution_count": 119
    }
   ],
   "metadata": {}
  }
 ],
 "metadata": {
  "orig_nbformat": 4,
  "language_info": {
   "name": "python",
   "version": "3.9.6",
   "mimetype": "text/x-python",
   "codemirror_mode": {
    "name": "ipython",
    "version": 3
   },
   "pygments_lexer": "ipython3",
   "nbconvert_exporter": "python",
   "file_extension": ".py"
  },
  "kernelspec": {
   "name": "python3",
   "display_name": "Python 3.9.6 64-bit ('.venv': venv)"
  },
  "interpreter": {
   "hash": "d6c9532fbfa0f93218c407179d0c17c9bfbcb19c68235869049e591df33d86b7"
  }
 },
 "nbformat": 4,
 "nbformat_minor": 2
}