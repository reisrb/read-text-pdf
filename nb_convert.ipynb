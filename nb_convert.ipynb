{
 "cells": [
  {
   "cell_type": "code",
   "execution_count": 2,
   "source": [
    "import pprint\n",
    "import pdfplumber\n",
    "import pandas as pd \n",
    "import numpy as np\n",
    "\n",
    "from typing import List\n",
    "from abc import ABCMeta, abstractmethod\n",
    "from dataclasses import dataclass"
   ],
   "outputs": [
    {
     "output_type": "error",
     "ename": "ModuleNotFoundError",
     "evalue": "No module named 'model.pdf'",
     "traceback": [
      "\u001b[0;31m---------------------------------------------------------------------------\u001b[0m",
      "\u001b[0;31mModuleNotFoundError\u001b[0m                       Traceback (most recent call last)",
      "\u001b[0;32m/tmp/ipykernel_7966/3686742182.py\u001b[0m in \u001b[0;36m<module>\u001b[0;34m\u001b[0m\n\u001b[1;32m      8\u001b[0m \u001b[0;32mfrom\u001b[0m \u001b[0mdataclasses\u001b[0m \u001b[0;32mimport\u001b[0m \u001b[0mdataclass\u001b[0m\u001b[0;34m\u001b[0m\u001b[0;34m\u001b[0m\u001b[0m\n\u001b[1;32m      9\u001b[0m \u001b[0;34m\u001b[0m\u001b[0m\n\u001b[0;32m---> 10\u001b[0;31m \u001b[0;32mfrom\u001b[0m \u001b[0mmodel\u001b[0m\u001b[0;34m.\u001b[0m\u001b[0mpdf\u001b[0m \u001b[0;32mimport\u001b[0m \u001b[0mPdf\u001b[0m\u001b[0;34m\u001b[0m\u001b[0;34m\u001b[0m\u001b[0m\n\u001b[0m",
      "\u001b[0;31mModuleNotFoundError\u001b[0m: No module named 'model.pdf'"
     ]
    }
   ],
   "metadata": {}
  },
  {
   "cell_type": "code",
   "execution_count": null,
   "source": [
    "class Pdf():\n",
    "    numero_instalacao: str = \"\"\n",
    "    numero_cliente: str = \"\"\n",
    "    numero_medidor: str = \"\"\n",
    "    grupo_tarifario: str = \"\"\n",
    "    modalidade_tarifaria: str = \"\"\n",
    "    dem_cont_ep: str = \"\"\n",
    "    dem_cont_efp: str = \"\"\n",
    "    valor_fat_acl: str = \"\"\n",
    "    pis: str = \"\"\n",
    "    cofins: str = \"\"\n",
    "    icms: str = \"\"\n",
    "    usd_ep: str = \"\"\n",
    "    usd_efp: str = \"\"\n",
    "    ufer_ep: str = \"\"\n",
    "    ufer_efp: str = \"\"\n",
    "    ufdr_ep: str = \"\"\n",
    "    ufdr_efp: str = \"\"\n",
    "    cip_cosip: str = \"\"\n",
    "    subv_tar: str = \"\"\n",
    "    cde_covid_ep: str = \"\"\n",
    "    cde_covid_efp: str = \"\"\n",
    "    fat_car_ep: str = \"\"\n",
    "    fat_car_efp: str = \"\"\n",
    "\n",
    "    def to_csv(self):\n",
    "        ..."
   ],
   "outputs": [],
   "metadata": {}
  },
  {
   "cell_type": "code",
   "execution_count": null,
   "source": [
    "class Converter(metaclass=ABCMeta):\n",
    "    table = ...\n",
    "\n",
    "    def convert_table(self, vertical: list, horizontal: list, page: int):\n",
    "        _df = pd.DataFrame(self.pdf.pages[page].extract_tables({\n",
    "            \"vertical_strategy\": \"explicit\", \"horizontal_strategy\": \"explicit\", \"snap_tolerance\": 3,\n",
    "            \"explicit_vertical_lines\": vertical, \"explicit_horizontal_lines\": horizontal,\n",
    "        })[0])\n",
    "        _df.replace('', np.nan, inplace=True)\n",
    "        _df.dropna(how=\"all\", inplace=True)\n",
    "        _df.replace(np.nan, '', inplace=True)\n",
    "        return _df\n",
    "\n",
    "    def to_img(self, vertical: list, horizontal: list, page: int, resolution=40):\n",
    "        return self.pdf.pages[page].to_image(resolution=resolution).debug_tablefinder({\n",
    "            \"vertical_strategy\": \"explicit\", \"horizontal_strategy\": \"explicit\", \"snap_tolerance\": 3,\n",
    "            \"explicit_vertical_lines\": vertical, \"explicit_horizontal_lines\": horizontal,\n",
    "        })\n",
    "\n",
    "    def get_dataframe(self) -> Pdf:\n",
    "        df = [[] for x in range(len(self.pdf.pages))]\n",
    "\n",
    "        for table in self.tables:\n",
    "            page = int(table[-1])\n",
    "            df[page].append(self.convert_table(self.tables[table][0], self.tables[table][1], page))\n",
    "\n",
    "        return df\n",
    "    \n",
    "\n",
    "    @abstractmethod\n",
    "    def to_dataclass(self):\n",
    "        ..."
   ],
   "outputs": [],
   "metadata": {}
  },
  {
   "cell_type": "code",
   "execution_count": null,
   "source": [
    "@dataclass\n",
    "class CpflConverter(Converter):\n",
    "    tables = {\n",
    "        # {\n",
    "        #     f\"endereco_{i}\": ([1, ..., 99], [1, ..., 99]) for i in range(2)\n",
    "        # },\n",
    "        **{ #0\n",
    "            f\"roteiro_de_leitura_{i}\": ([45, 170, 220, 320, 550], [150, 162, 175]) for i in range(2)\n",
    "        },\n",
    "        **{ #1\n",
    "            f\"dados_do_seu_codigo_{i}\": ([45, 280, 550], [190, 205, 215, 225, 240]) for i in range(2)\n",
    "        },\n",
    "        **{ #2\n",
    "            f\"atendimento_cpfl_{i}\": ([45, 143, 195, 260, 350, 440, 550], [255, 280]) for i in range(2)\n",
    "        },\n",
    "        **{\n",
    "            \"demanda_contratada_2\": ([47, 80, 167], [148, 156, 163, 170, 180])\n",
    "        },\n",
    "        **{\n",
    "            \"tarifa_aneel_2\": ([193, 255, 312, 372, 432, 490, 548], [193, *[201+(6.6*i) for i in range(5)], 237])\n",
    "        }\n",
    "    }\n",
    "\n",
    "    # TODO: arrumar o __init__\n",
    "    def __init__(self, file_path: str):\n",
    "        self.pdf = pdfplumber.open(file_path)\n",
    "\n",
    "    def __enter__(self):\n",
    "        print(\"Reading PDF\")\n",
    "        return self    \n",
    "\n",
    "    def __exit__(self):\n",
    "        print(\"Closing PDF\")\n",
    "        self.pdf.close()\n",
    "        \n",
    "    # TODO: abrir o arquivo ao usar a função e fechar a porta ao sair \n",
    "    def to_dataclass(self):\n",
    "        pdf = Pdf()\n",
    "        df = self.get_dataframe()\n",
    "\n",
    "        pdf.numero_instalacao = df[0][0][1]\n",
    "        pdf.grupo_tarifario = df[0][1][1][0].split(\"-\")[1][0:2]\n",
    "        pdf.modalidade_tarifaria = \"Verde\" if \"Verde\" in df[0][1][1][0] else \"Azul\"\n",
    "        pdf.n_medidor = df[0][2][1]\n",
    "        pdf.numero_cliente = df[0][2][2]\n",
    "\n",
    "        pdf.dem_cont_ep = df[2][0][1][1]\n",
    "        pdf.dem_cont_efp = df[2][0][1][2]\n",
    "\n",
    "        return df"
   ],
   "outputs": [],
   "metadata": {}
  },
  {
   "cell_type": "code",
   "execution_count": null,
   "source": [
    "cpfl = CpflConverter(\"in/cpfl/MAGSAC EMPRESA JUNHO 2.pdf\")"
   ],
   "outputs": [
    {
     "output_type": "error",
     "ename": "NameError",
     "evalue": "name 'CpflConverter' is not defined",
     "traceback": [
      "\u001b[0;31m---------------------------------------------------------------------------\u001b[0m",
      "\u001b[0;31mNameError\u001b[0m                                 Traceback (most recent call last)",
      "\u001b[0;32m/tmp/ipykernel_7258/1323337062.py\u001b[0m in \u001b[0;36m<module>\u001b[0;34m\u001b[0m\n\u001b[0;32m----> 1\u001b[0;31m \u001b[0mcpfl\u001b[0m \u001b[0;34m=\u001b[0m \u001b[0mCpflConverter\u001b[0m\u001b[0;34m(\u001b[0m\u001b[0;34m\"in/cpfl/MAGSAC EMPRESA JUNHO 2.pdf\"\u001b[0m\u001b[0;34m)\u001b[0m\u001b[0;34m\u001b[0m\u001b[0;34m\u001b[0m\u001b[0m\n\u001b[0m",
      "\u001b[0;31mNameError\u001b[0m: name 'CpflConverter' is not defined"
     ]
    }
   ],
   "metadata": {}
  },
  {
   "cell_type": "code",
   "execution_count": null,
   "source": [
    "cpfl.to_dataclass()"
   ],
   "outputs": [
    {
     "output_type": "stream",
     "name": "stdout",
     "text": [
      "            0      1\n",
      "0       Única       \n",
      "1       Ponta  1.000\n",
      "2  Fora Ponta  1.100\n",
      "3     Geração       \n"
     ]
    }
   ],
   "metadata": {}
  }
 ],
 "metadata": {
  "orig_nbformat": 4,
  "language_info": {
   "name": "python",
   "version": "3.9.6",
   "mimetype": "text/x-python",
   "codemirror_mode": {
    "name": "ipython",
    "version": 3
   },
   "pygments_lexer": "ipython3",
   "nbconvert_exporter": "python",
   "file_extension": ".py"
  },
  "kernelspec": {
   "name": "python3",
   "display_name": "Python 3.9.6 64-bit ('.venv': venv)"
  },
  "interpreter": {
   "hash": "d6c9532fbfa0f93218c407179d0c17c9bfbcb19c68235869049e591df33d86b7"
  }
 },
 "nbformat": 4,
 "nbformat_minor": 2
}