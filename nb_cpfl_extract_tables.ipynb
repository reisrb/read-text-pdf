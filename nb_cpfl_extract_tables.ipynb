{
 "cells": [
  {
   "source": [
    "# Extração de Tabelas\n",
    "---"
   ],
   "cell_type": "markdown",
   "metadata": {}
  },
  {
   "source": [
    "# Imports"
   ],
   "cell_type": "markdown",
   "metadata": {}
  },
  {
   "cell_type": "code",
   "execution_count": null,
   "metadata": {},
   "outputs": [],
   "source": [
    "from decimal import Decimal\n",
    "import pdfplumber\n",
    "import pandas as pd\n",
    "import numpy as np\n",
    "from IPython.display import display\n",
    "from os import listdir"
   ]
  },
  {
   "source": [
    "# Open"
   ],
   "cell_type": "markdown",
   "metadata": {}
  },
  {
   "cell_type": "code",
   "execution_count": null,
   "metadata": {},
   "outputs": [],
   "source": [
    "pdf = pdfplumber.open(\"in/cpfl/MAGSAC EMPRESA JUNHO 2.pdf\")"
   ]
  },
  {
   "source": [
    "# Display Dataframe"
   ],
   "cell_type": "markdown",
   "metadata": {}
  },
  {
   "cell_type": "code",
   "execution_count": null,
   "metadata": {},
   "outputs": [],
   "source": [
    "def df(vertical: list, horizontal: list, page: int):\n",
    "    _df = pd.DataFrame(pdf.pages[page].extract_tables({\n",
    "        \"vertical_strategy\": \"explicit\", \"horizontal_strategy\": \"explicit\", \"snap_tolerance\": 3,\n",
    "        \"explicit_vertical_lines\": vertical, \"explicit_horizontal_lines\": horizontal,\n",
    "    })[0])\n",
    "    _df.replace('', np.nan, inplace=True)\n",
    "    _df.dropna(how=\"all\", inplace=True)\n",
    "    _df.replace(np.nan, '', inplace=True)\n",
    "    return _df"
   ]
  },
  {
   "source": [
    "# Display image"
   ],
   "cell_type": "markdown",
   "metadata": {}
  },
  {
   "cell_type": "code",
   "execution_count": null,
   "metadata": {},
   "outputs": [],
   "source": [
    "def im(vertical: list, horizontal: list, page: int, resolution=40):\n",
    "    return pdf.pages[page].to_image(resolution=resolution).debug_tablefinder({\n",
    "        \"vertical_strategy\": \"explicit\", \"horizontal_strategy\": \"explicit\", \"snap_tolerance\": 3,\n",
    "        \"explicit_vertical_lines\": vertical, \"explicit_horizontal_lines\": horizontal,\n",
    "    })"
   ]
  },
  {
   "source": [
    "# Extração de Tabelas"
   ],
   "cell_type": "markdown",
   "metadata": {}
  },
  {
   "source": [
    "- ## Tabela 1: { Endereço } `PG 0`"
   ],
   "cell_type": "markdown",
   "metadata": {}
  },
  {
   "cell_type": "code",
   "execution_count": null,
   "metadata": {},
   "outputs": [],
   "source": [
    "# TODO"
   ]
  },
  {
   "source": [
    "- ## Tabela 2: Nota Fiscal `PG 0`"
   ],
   "cell_type": "markdown",
   "metadata": {}
  },
  {
   "cell_type": "code",
   "execution_count": null,
   "metadata": {},
   "outputs": [],
   "source": [
    "# TODO"
   ]
  },
  {
   "source": [
    "- ## Tabela 3: Roteiro de leitura `PG 0`"
   ],
   "cell_type": "markdown",
   "metadata": {}
  },
  {
   "cell_type": "code",
   "execution_count": null,
   "metadata": {},
   "outputs": [],
   "source": [
    "cf = (\n",
    "    [45, 170, 220, 320, 550],\n",
    "    [150, 162, 175],\n",
    "    0,\n",
    ")\n",
    "display(\n",
    "    im(*cf),\n",
    "    df(*cf),\n",
    ")"
   ]
  },
  {
   "source": [
    "- ## Tabela 4: Dados do seu código `PG 0`"
   ],
   "cell_type": "markdown",
   "metadata": {}
  },
  {
   "cell_type": "code",
   "execution_count": null,
   "metadata": {},
   "outputs": [],
   "source": [
    "cf = (\n",
    "    [45, 280, 550],\n",
    "    [190, 205, 215, 225, 240],\n",
    "    0,\n",
    ")\n",
    "display(\n",
    "    im(*cf),\n",
    "    df(*cf),\n",
    ")"
   ]
  },
  {
   "source": [
    "- ## Tabela 5: Atendimento CPFL `PG 0`"
   ],
   "cell_type": "markdown",
   "metadata": {}
  },
  {
   "cell_type": "code",
   "execution_count": null,
   "metadata": {},
   "outputs": [],
   "source": [
    "cf = (\n",
    "    [45, 143, 195, 260, 350, 440, 550],\n",
    "    [255, 280,],\n",
    "    0,\n",
    ")\n",
    "display(\n",
    "    im(*cf),\n",
    "    df(*cf),\n",
    ")"
   ]
  },
  {
   "source": [
    "- ## Tabela 6: Discriminação da Operação - Reservado ao fisco `PG 0`"
   ],
   "cell_type": "markdown",
   "metadata": {}
  },
  {
   "cell_type": "code",
   "execution_count": null,
   "metadata": {},
   "outputs": [],
   "source": [
    "cf = (\n",
    "    [45, 62, 150, 175, 220, 255, 270, 305, 350, 390, 410, 440, 490, 520, 550],\n",
    "    [290, 312, *[322+(10*i) for i in range(23)]],\n",
    "    0,\n",
    ")\n",
    "display(\n",
    "    im(*cf),\n",
    "    df(*cf),\n",
    ")"
   ]
  },
  {
   "source": [
    "- ## Tabela 6: Discriminação da Operação - Reservado ao fisco `PG 1`"
   ],
   "cell_type": "markdown",
   "metadata": {}
  },
  {
   "cell_type": "code",
   "execution_count": null,
   "metadata": {},
   "outputs": [],
   "source": [
    "cf = (\n",
    "    [45, 62, 150, 175, 220, 255, 270, 305, 350, 390, 410, 440, 490, 520, 550],\n",
    "    [290, 312, *[322+(10*i) for i in range(23)]],\n",
    "    1,\n",
    ")\n",
    "display(\n",
    "    im(*cf),\n",
    "    df(*cf),\n",
    ")"
   ]
  },
  {
   "source": [
    "- ## Tabela 2: Demanda Contratada `PG 2`"
   ],
   "cell_type": "markdown",
   "metadata": {}
  },
  {
   "cell_type": "code",
   "execution_count": null,
   "metadata": {},
   "outputs": [],
   "source": [
    "cf = (\n",
    "    [47, 80, 167],\n",
    "    [148, 156, 163, 170, 180],\n",
    "    2,\n",
    ")\n",
    "display(\n",
    "    im(*cf),\n",
    "    df(*cf),\n",
    ")"
   ]
  },
  {
   "source": [
    "- ## Tabela 7: Tarifa Aneel `PG 2`"
   ],
   "cell_type": "markdown",
   "metadata": {}
  },
  {
   "cell_type": "code",
   "execution_count": null,
   "metadata": {},
   "outputs": [],
   "source": [
    "cf = (\n",
    "    [193, 255, 312, 372, 432, 490, 548],\n",
    "    [193, *[201+(6.6*i) for i in range(5)], 237],\n",
    "    2,\n",
    ")\n",
    "display(\n",
    "    im(*cf),\n",
    "    df(*cf),\n",
    ")"
   ]
  }
 ],
 "metadata": {
  "orig_nbformat": 4,
  "language_info": {
   "name": "python",
   "version": "3.8.2-final",
   "mimetype": "text/x-python",
   "codemirror_mode": {
    "name": "ipython",
    "version": 3
   },
   "pygments_lexer": "ipython3",
   "nbconvert_exporter": "python",
   "file_extension": ".py"
  },
  "kernelspec": {
   "name": "python38264bitvenvvenv2381e59727e14bf686c129607714edd1",
   "display_name": "Python 3.8.2 64-bit ('.venv': venv)"
  },
  "interpreter": {
   "hash": "d6c9532fbfa0f93218c407179d0c17c9bfbcb19c68235869049e591df33d86b7"
  }
 },
 "nbformat": 4,
 "nbformat_minor": 2
}