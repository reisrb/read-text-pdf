{
 "cells": [
  {
   "cell_type": "code",
   "execution_count": null,
   "source": [
    "import pprint\n",
    "import pdfplumber\n",
    "import pandas as pd \n",
    "import numpy as np\n",
    "from decimal import Decimal\n",
    "\n",
    "from typing import List\n",
    "from abc import ABCMeta, abstractmethod\n",
    "from dataclasses import dataclass"
   ],
   "outputs": [],
   "metadata": {}
  },
  {
   "cell_type": "code",
   "execution_count": null,
   "source": [
    "class Pdf():\n",
    "    numero_instalacao: str = \"\"\n",
    "    numero_cliente: str = \"\"\n",
    "    numero_medidor: str = \"\"\n",
    "    grupo_tarifario: str = \"\"\n",
    "    modalidade_tarifaria: str = \"\"\n",
    "    dem_cont_ep: str = \"\"\n",
    "    dem_cont_efp: str = \"\"\n",
    "    valor_fat_acl: str = \"\"\n",
    "    pis: str = \"\"\n",
    "    cofins: str = \"\"\n",
    "    icms: str = \"\"\n",
    "    usd_ep: str = \"\"\n",
    "    usd_efp: str = \"\"\n",
    "    ufer_ep: str = \"\"\n",
    "    ufer_efp: str = \"\"\n",
    "    ufdr_ep: str = \"\"\n",
    "    ufdr_efp: str = \"\"\n",
    "    cip_cosip: str = \"\"\n",
    "    subv_tar: str = \"\"\n",
    "    cde_covid_ep: str = \"\"\n",
    "    cde_covid_efp: str = \"\"\n",
    "    fat_car_ep: str = \"\"\n",
    "    fat_car_efp: str = \"\"\n",
    "\n",
    "    def to_csv(self):\n",
    "        ..."
   ],
   "outputs": [],
   "metadata": {}
  },
  {
   "cell_type": "code",
   "execution_count": null,
   "source": [
    "class Converter(metaclass=ABCMeta):\n",
    "    table = ...\n",
    "\n",
    "    def convert_table(self, vertical: list, horizontal: list, page: int):\n",
    "        _df = pd.DataFrame(self.pdf.pages[page].extract_tables({\n",
    "            \"vertical_strategy\": \"explicit\", \"horizontal_strategy\": \"explicit\", \"snap_tolerance\": 3,\n",
    "            \"explicit_vertical_lines\": vertical, \"explicit_horizontal_lines\": horizontal,\n",
    "        })[0])\n",
    "        _df.replace('', np.nan, inplace=True)\n",
    "        _df.dropna(how=\"all\", inplace=True)\n",
    "        _df.replace(np.nan, '', inplace=True)\n",
    "        return _df\n",
    "\n",
    "    def to_img(self, vertical: list, horizontal: list, page: int, resolution=120):\n",
    "        return self.pdf.pages[page].to_image(resolution=resolution).debug_tablefinder({\n",
    "            \"vertical_strategy\": \"explicit\", \"horizontal_strategy\": \"explicit\", \"snap_tolerance\": 3,\n",
    "            \"explicit_vertical_lines\": vertical, \"explicit_horizontal_lines\": horizontal,\n",
    "        })\n",
    "\n",
    "    def get_dataframe(self) -> Pdf:\n",
    "        df = [[] for x in range(len(self.pdf.pages))]\n",
    "\n",
    "        for table in self.tables:\n",
    "            page = int(table[-1])\n",
    "            df[page].append(self.convert_table(self.tables[table][0], self.tables[table][1], page))\n",
    "\n",
    "        return df\n",
    "\n",
    "    def vline(self, x: float, top: float = 0, bottom: float = 900, *, height: float = 3, width: float = 3):\n",
    "        return {\n",
    "            \"top\": Decimal(top),\n",
    "            \"bottom\": Decimal(bottom),\n",
    "            \"x0\": Decimal(x),\n",
    "            \"x1\": Decimal(x),\n",
    "            \"height\": Decimal(3),\n",
    "            \"width\": Decimal(3),\n",
    "            \"object_type\": \"line\"\n",
    "        }\n",
    "\n",
    "\n",
    "    def hline(self, y: float, left: float = 0, right: float = 600, *, height: float = 3, width: float = 3):\n",
    "        return {\n",
    "            \"top\": Decimal(y),\n",
    "            \"bottom\": Decimal(y),\n",
    "            \"x0\": Decimal(left),\n",
    "            \"x1\": Decimal(right),\n",
    "            \"height\": Decimal(3),\n",
    "            \"width\": Decimal(3),\n",
    "            \"object_type\": \"line\"\n",
    "        }    \n",
    "\n",
    "    @abstractmethod\n",
    "    def to_dataclass(self):\n",
    "        ..."
   ],
   "outputs": [],
   "metadata": {}
  },
  {
   "cell_type": "code",
   "execution_count": 36,
   "source": [
    "@dataclass\n",
    "class EnelConverter(Converter):\n",
    "\n",
    "    # TODO: arrumar o __init__\n",
    "    def __init__(self, file_path: str):\n",
    "        self.pdf = pdfplumber.open(file_path)\n",
    "\n",
    "        self.tables = {\n",
    "        # **{\n",
    "            **{\n",
    "                \"dados_cliente_0\": ([43.3, self.vline(150, 47.8, 56), self.vline(160, 37, 47.8), 280], [37, 47.8, 56, 73, 81, 96]),\n",
    "            },\n",
    "            **{\n",
    "                \"dados_medidor_0\": ([419, 551], [36, 46, 56, 66, 76])\n",
    "            },\n",
    "            **{\n",
    "                \"classificacao_unidade_0\": ([43.3, self.vline(79, 108, 117), self.vline(132, 108, 117), self.vline(147, 131, 140), 280], [108, 117, 131, 140, 149])\n",
    "            }\n",
    "        }\n",
    "\n",
    "    def __enter__(self):\n",
    "        print(\"Reading PDF\")\n",
    "        return self    \n",
    "\n",
    "    def __exit__(self):\n",
    "        print(\"Closing PDF\")\n",
    "        self.pdf.close()\n",
    "        \n",
    "    # TODO: abrir o arquivo ao usar a função e fechar a porta ao sair \n",
    "    def to_dataclass(self):\n",
    "        pdf = Pdf()\n",
    "        df = self.get_dataframe()\n",
    "\n",
    "        # pdf.numero_instalacao = df[0][0][1]\n",
    "        # pdf.grupo_tarifario = df[0][1][1][0].split(\"-\")[1][0:2]\n",
    "        # pdf.modalidade_tarifaria = \"Verde\" if \"verde\" in df[0][1][1][0].lower() else \"Azul\"\n",
    "        # pdf.n_medidor = df[0][2][1]\n",
    "        # pdf.numero_cliente = df[0][2][2]\n",
    "\n",
    "        # #nao funfa\n",
    "        # pos_desconto_acl = [pos for pos, char in enumerate(df[0][3][1]) if 'desconto energia acl' in char.lower()]\n",
    "        # pdf.valor_fat_acl = df[0][3][7][pos_desconto_acl]\n",
    "\n",
    "        # #vem com %\n",
    "        # pdf.pis = df[0][3][12][0].split('\\n')[1]\n",
    "        # #vem com %\n",
    "        # pdf.cofins = df[0][3][13][0].split('\\n')[1]\n",
    "        # #icms vem sem %\n",
    "        # pdf.icms = df[1][3][9][1]\n",
    "\n",
    "        # if pdf.modalidade_tarifaria == \"Azul\":\n",
    "\n",
    "        #     pos_usd_p = [pos for pos, char in enumerate(df[1][3][1]) if 'uso sist distr ponta' in char.lower()][0]\n",
    "        #     pdf.usd_ep = df[1][3][4][pos_usd_p]\n",
    "\n",
    "        #     pos_usd_fp = [pos for pos, char in enumerate(df[1][3][1]) if 'uso sist distr f ponta' in char.lower()][0]\n",
    "        #     pdf.usd_efp = df[1][3][4][pos_usd_fp]\n",
    "\n",
    "        # else:\n",
    "        #     pos_cde_p = [pos for pos, char in enumerate(df[2][1][2]) if 'cde covid ponta' in char.lower()][0]\n",
    "        #     pdf.cde_covid_ep = df[2][1][3][pos_cde_p]\n",
    "        #     pos_cde_fp = [pos for pos, char in enumerate(df[2][1][2]) if 'cde covid fpont' in char.lower()][0]\n",
    "        #     pdf.cde_covid_ep = df[2][1][3][pos_cde_fp]\n",
    "\n",
    "\n",
    "        # pdf.dem_cont_ep = df[2][0][1][1]\n",
    "        # pdf.dem_cont_efp = df[2][0][1][2]\n",
    "\n",
    "        return df"
   ],
   "outputs": [],
   "metadata": {}
  },
  {
   "cell_type": "code",
   "execution_count": 37,
   "source": [
    "enel = EnelConverter(\"in/enel/Barbosa ENEL_SP loja 19 abr21.pdf\")"
   ],
   "outputs": [],
   "metadata": {}
  },
  {
   "cell_type": "code",
   "execution_count": null,
   "source": [
    "enel.to_dataclass()[0][0][0] #n_instalacao\n",
    "enel.to_dataclass()[0][0][1] #n_cliente\n",
    "enel.to_dataclass()[0][1][0] #n_medidor"
   ],
   "outputs": [],
   "metadata": {}
  },
  {
   "cell_type": "code",
   "execution_count": 41,
   "source": [
    "enel.to_dataclass()[0][2][1][0] #subgrupo"
   ],
   "outputs": [
    {
     "output_type": "execute_result",
     "data": {
      "text/plain": [
       "'A4'"
      ]
     },
     "metadata": {},
     "execution_count": 41
    }
   ],
   "metadata": {}
  }
 ],
 "metadata": {
  "orig_nbformat": 4,
  "language_info": {
   "name": "python",
   "version": "3.9.6",
   "mimetype": "text/x-python",
   "codemirror_mode": {
    "name": "ipython",
    "version": 3
   },
   "pygments_lexer": "ipython3",
   "nbconvert_exporter": "python",
   "file_extension": ".py"
  },
  "kernelspec": {
   "name": "python3",
   "display_name": "Python 3.9.6 64-bit ('.venv': venv)"
  },
  "interpreter": {
   "hash": "d6c9532fbfa0f93218c407179d0c17c9bfbcb19c68235869049e591df33d86b7"
  }
 },
 "nbformat": 4,
 "nbformat_minor": 2
}